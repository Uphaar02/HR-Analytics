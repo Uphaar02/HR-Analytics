{
 "cells": [
  {
   "cell_type": "code",
   "execution_count": 2,
   "metadata": {},
   "outputs": [],
   "source": [
    "import numpy as np\n",
    "import pandas as pd\n",
    "import matplotlib.pyplot as plt\n",
    "import seaborn as sns\n",
    "import scipy.stats as stats\n",
    "from sklearn.model_selection import train_test_split\n"
   ]
  },
  {
   "cell_type": "code",
   "execution_count": 3,
   "metadata": {},
   "outputs": [],
   "source": [
    "test = pd.read_csv('C:\\\\Users\\\\uphaa\\\\Documents\\\\datasets\\\\test_hr.csv')"
   ]
  },
  {
   "cell_type": "code",
   "execution_count": 4,
   "metadata": {},
   "outputs": [],
   "source": [
    "train= pd.read_csv('C:\\\\Users\\\\uphaa\\\\Documents\\\\datasets\\\\train_hr.csv')"
   ]
  },
  {
   "cell_type": "code",
   "execution_count": 5,
   "metadata": {},
   "outputs": [],
   "source": [
    "df3= pd.read_csv('C:\\\\Users\\\\uphaa\\\\Documents\\\\datasets\\\\sample_submission.csv')"
   ]
  },
  {
   "cell_type": "code",
   "execution_count": null,
   "metadata": {},
   "outputs": [],
   "source": [
    "print(train.shape)\n",
    "print(test.shape)\n",
    "#54808/(54808+23490)"
   ]
  },
  {
   "cell_type": "code",
   "execution_count": null,
   "metadata": {},
   "outputs": [],
   "source": []
  },
  {
   "cell_type": "code",
   "execution_count": 6,
   "metadata": {},
   "outputs": [
    {
     "name": "stdout",
     "output_type": "stream",
     "text": [
      "<class 'pandas.core.frame.DataFrame'>\n",
      "RangeIndex: 54808 entries, 0 to 54807\n",
      "Data columns (total 14 columns):\n",
      "employee_id             54808 non-null int64\n",
      "department              54808 non-null object\n",
      "region                  54808 non-null object\n",
      "education               52399 non-null object\n",
      "gender                  54808 non-null object\n",
      "recruitment_channel     54808 non-null object\n",
      "no_of_trainings         54808 non-null int64\n",
      "age                     54808 non-null int64\n",
      "previous_year_rating    50684 non-null float64\n",
      "length_of_service       54808 non-null int64\n",
      "KPIs_met >80%           54808 non-null int64\n",
      "awards_won?             54808 non-null int64\n",
      "avg_training_score      54808 non-null int64\n",
      "is_promoted             54808 non-null int64\n",
      "dtypes: float64(1), int64(8), object(5)\n",
      "memory usage: 5.9+ MB\n",
      "<class 'pandas.core.frame.DataFrame'>\n",
      "RangeIndex: 23490 entries, 0 to 23489\n",
      "Data columns (total 13 columns):\n",
      "employee_id             23490 non-null int64\n",
      "department              23490 non-null object\n",
      "region                  23490 non-null object\n",
      "education               22456 non-null object\n",
      "gender                  23490 non-null object\n",
      "recruitment_channel     23490 non-null object\n",
      "no_of_trainings         23490 non-null int64\n",
      "age                     23490 non-null int64\n",
      "previous_year_rating    21678 non-null float64\n",
      "length_of_service       23490 non-null int64\n",
      "KPIs_met >80%           23490 non-null int64\n",
      "awards_won?             23490 non-null int64\n",
      "avg_training_score      23490 non-null int64\n",
      "dtypes: float64(1), int64(7), object(5)\n",
      "memory usage: 2.3+ MB\n"
     ]
    }
   ],
   "source": [
    "train.info()\n",
    "# Education and previous_year_rating have null values and needs to be treated\n",
    "test.info()"
   ]
  },
  {
   "cell_type": "code",
   "execution_count": 7,
   "metadata": {},
   "outputs": [
    {
     "name": "stdout",
     "output_type": "stream",
     "text": [
      "['region_7' 'region_22' 'region_19' 'region_23' 'region_26' 'region_2'\n",
      " 'region_20' 'region_34' 'region_1' 'region_4' 'region_29' 'region_31'\n",
      " 'region_15' 'region_14' 'region_11' 'region_5' 'region_28' 'region_17'\n",
      " 'region_13' 'region_16' 'region_25' 'region_10' 'region_27' 'region_30'\n",
      " 'region_12' 'region_21' 'region_8' 'region_32' 'region_6' 'region_33'\n",
      " 'region_24' 'region_3' 'region_9' 'region_18']\n",
      "['Sales & Marketing' 'Operations' 'Technology' 'Analytics' 'R&D'\n",
      " 'Procurement' 'Finance' 'HR' 'Legal']\n",
      "[\"Master's & above\" \"Bachelor's\" nan 'Below Secondary']\n",
      "['sourcing' 'other' 'referred']\n",
      "[ 1  2  3  4  7  5  6  8 10  9]\n",
      "[ 5.  3.  1.  4. nan  2.]\n",
      "[ 8  4  7 10  2  5  6  1  3 16  9 11 26 12 17 14 13 19 15 23 18 20 22 25\n",
      " 28 24 31 21 29 30 34 27 33 32 37]\n"
     ]
    }
   ],
   "source": [
    "print(train.region.unique())\n",
    "print(train.department.unique())\n",
    "print(train.education.unique())\n",
    "print(train.recruitment_channel.unique())\n",
    "print(train.no_of_trainings.unique())\n",
    "print(train.previous_year_rating.unique())\n",
    "print(train.length_of_service.unique())\n"
   ]
  },
  {
   "cell_type": "code",
   "execution_count": 8,
   "metadata": {},
   "outputs": [
    {
     "data": {
      "text/plain": [
       "employee_id             False\n",
       "department              False\n",
       "region                  False\n",
       "education                True\n",
       "gender                  False\n",
       "recruitment_channel     False\n",
       "no_of_trainings         False\n",
       "age                     False\n",
       "previous_year_rating     True\n",
       "length_of_service       False\n",
       "KPIs_met >80%           False\n",
       "awards_won?             False\n",
       "avg_training_score      False\n",
       "is_promoted             False\n",
       "dtype: bool"
      ]
     },
     "execution_count": 8,
     "metadata": {},
     "output_type": "execute_result"
    }
   ],
   "source": [
    "train.isna().any()"
   ]
  },
  {
   "cell_type": "code",
   "execution_count": 9,
   "metadata": {},
   "outputs": [
    {
     "data": {
      "image/png": "[encoded data removed]",
      "text/plain": [
       "<Figure size 432x288 with 1 Axes>"
      ]
     },
     "metadata": {
      "needs_background": "light"
     },
     "output_type": "display_data"
    }
   ],
   "source": [
    "train.education.isna().value_counts()\n",
    "train.education.value_counts().plot(kind = 'bar')\n",
    "plt.show()\n",
    "#Since the bachelors quantity is most,therefore filling the null values with mode. "
   ]
  },
  {
   "cell_type": "code",
   "execution_count": 10,
   "metadata": {},
   "outputs": [],
   "source": [
    "train.education.replace(np.nan,\"Bachelor's\",inplace = True)\n",
    "test.education.replace(np.nan,\"Bachelor's\",inplace = True)"
   ]
  },
  {
   "cell_type": "code",
   "execution_count": 11,
   "metadata": {},
   "outputs": [
    {
     "data": {
      "image/png": "[encoded data removed]",
      "text/plain": [
       "<Figure size 432x288 with 1 Axes>"
      ]
     },
     "metadata": {
      "needs_background": "light"
     },
     "output_type": "display_data"
    }
   ],
   "source": [
    "train.previous_year_rating.isna().value_counts()\n",
    "train.previous_year_rating.value_counts().plot(kind = 'bar')\n",
    "plt.show()\n"
   ]
  },
  {
   "cell_type": "code",
   "execution_count": 12,
   "metadata": {},
   "outputs": [],
   "source": [
    "train['tech_knowledge'] = train['avg_training_score'] * train['no_of_trainings']\n",
    "test['tech_knowledge'] = test['avg_training_score'] * test['no_of_trainings']"
   ]
  },
  {
   "cell_type": "code",
   "execution_count": 13,
   "metadata": {},
   "outputs": [
    {
     "data": {
      "text/plain": [
       "0    3.0\n",
       "dtype: float64"
      ]
     },
     "execution_count": 13,
     "metadata": {},
     "output_type": "execute_result"
    }
   ],
   "source": [
    "train.previous_year_rating.mode()"
   ]
  },
  {
   "cell_type": "code",
   "execution_count": 28,
   "metadata": {},
   "outputs": [],
   "source": [
    "train['previous_year_rating'].replace(np.nan,3,inplace = True)\n",
    "test['previous_year_rating'].replace(np.nan,3,inplace = True)"
   ]
  },
  {
   "cell_type": "code",
   "execution_count": 30,
   "metadata": {},
   "outputs": [],
   "source": [
    "series = pd.isnull(train['previous_year_rating'])"
   ]
  },
  {
   "cell_type": "code",
   "execution_count": 31,
   "metadata": {},
   "outputs": [
    {
     "data": {
      "text/html": [
       "<div>\n",
       "<style scoped>\n",
       "    .dataframe tbody tr th:only-of-type {\n",
       "        vertical-align: middle;\n",
       "    }\n",
       "\n",
       "    .dataframe tbody tr th {\n",
       "        vertical-align: top;\n",
       "    }\n",
       "\n",
       "    .dataframe thead th {\n",
       "        text-align: right;\n",
       "    }\n",
       "</style>\n",
       "<table border=\"1\" class=\"dataframe\">\n",
       "  <thead>\n",
       "    <tr style=\"text-align: right;\">\n",
       "      <th></th>\n",
       "      <th>employee_id</th>\n",
       "      <th>department</th>\n",
       "      <th>region</th>\n",
       "      <th>education</th>\n",
       "      <th>gender</th>\n",
       "      <th>recruitment_channel</th>\n",
       "      <th>no_of_trainings</th>\n",
       "      <th>age</th>\n",
       "      <th>previous_year_rating</th>\n",
       "      <th>length_of_service</th>\n",
       "      <th>KPIs_met &gt;80%</th>\n",
       "      <th>awards_won?</th>\n",
       "      <th>avg_training_score</th>\n",
       "      <th>is_promoted</th>\n",
       "      <th>tech_knowledge</th>\n",
       "    </tr>\n",
       "  </thead>\n",
       "  <tbody>\n",
       "  </tbody>\n",
       "</table>\n",
       "</div>"
      ],
      "text/plain": [
       "Empty DataFrame\n",
       "Columns: [employee_id, department, region, education, gender, recruitment_channel, no_of_trainings, age, previous_year_rating, length_of_service, KPIs_met >80%, awards_won?, avg_training_score, is_promoted, tech_knowledge]\n",
       "Index: []"
      ]
     },
     "execution_count": 31,
     "metadata": {},
     "output_type": "execute_result"
    }
   ],
   "source": [
    "train[series]"
   ]
  },
  {
   "cell_type": "markdown",
   "metadata": {},
   "source": [
    "# Univariate Analysis"
   ]
  },
  {
   "cell_type": "code",
   "execution_count": 32,
   "metadata": {},
   "outputs": [
    {
     "data": {
      "text/plain": [
       "<matplotlib.axes._subplots.AxesSubplot at 0x2801141a408>"
      ]
     },
     "execution_count": 32,
     "metadata": {},
     "output_type": "execute_result"
    },
    {
     "data": {
      "image/png": "[encoded data removed]",
      "text/plain": [
       "<Figure size 432x288 with 1 Axes>"
      ]
     },
     "metadata": {
      "needs_background": "light"
     },
     "output_type": "display_data"
    }
   ],
   "source": [
    "sns.distplot(train.avg_training_score)\n",
    "#No trend for avg_training_score"
   ]
  },
  {
   "cell_type": "code",
   "execution_count": 33,
   "metadata": {},
   "outputs": [
    {
     "data": {
      "text/plain": [
       "<matplotlib.axes._subplots.AxesSubplot at 0x28010af27c8>"
      ]
     },
     "execution_count": 33,
     "metadata": {},
     "output_type": "execute_result"
    },
    {
     "data": {
      "image/png": "[encoded data removed]",
      "text/plain": [
       "<Figure size 432x288 with 1 Axes>"
      ]
     },
     "metadata": {
      "needs_background": "light"
     },
     "output_type": "display_data"
    }
   ],
   "source": [
    "sns.distplot(train.age)\n",
    "#Maximum candidates are of age 30-35"
   ]
  },
  {
   "cell_type": "code",
   "execution_count": 34,
   "metadata": {},
   "outputs": [
    {
     "data": {
      "text/plain": [
       "<matplotlib.axes._subplots.AxesSubplot at 0x28010fb8808>"
      ]
     },
     "execution_count": 34,
     "metadata": {},
     "output_type": "execute_result"
    },
    {
     "data": {
      "image/png": "[encoded data removed]",
      "text/plain": [
       "<Figure size 432x288 with 1 Axes>"
      ]
     },
     "metadata": {
      "needs_background": "light"
     },
     "output_type": "display_data"
    }
   ],
   "source": [
    "sns.countplot(train.no_of_trainings)\n",
    "#maximum people have attended only 1 training while maximum training attained is 5"
   ]
  },
  {
   "cell_type": "code",
   "execution_count": 35,
   "metadata": {},
   "outputs": [
    {
     "data": {
      "text/plain": [
       "<matplotlib.axes._subplots.AxesSubplot at 0x280112256c8>"
      ]
     },
     "execution_count": 35,
     "metadata": {},
     "output_type": "execute_result"
    },
    {
     "data": {
      "image/png": "[encoded data removed]",
      "text/plain": [
       "<Figure size 432x288 with 1 Axes>"
      ]
     },
     "metadata": {
      "needs_background": "light"
     },
     "output_type": "display_data"
    }
   ],
   "source": [
    "sns.countplot(train.previous_year_rating)\n",
    "#maximum people have attained rating of 3, while mimimum is 2"
   ]
  },
  {
   "cell_type": "code",
   "execution_count": 36,
   "metadata": {},
   "outputs": [
    {
     "data": {
      "text/plain": [
       "<matplotlib.axes._subplots.AxesSubplot at 0x28010eb0588>"
      ]
     },
     "execution_count": 36,
     "metadata": {},
     "output_type": "execute_result"
    },
    {
     "data": {
      "image/png": "[encoded data removed]",
      "text/plain": [
       "<Figure size 432x288 with 1 Axes>"
      ]
     },
     "metadata": {
      "needs_background": "light"
     },
     "output_type": "display_data"
    }
   ],
   "source": [
    "sns.countplot(train.length_of_service)\n",
    "#the company seems to have maximum strength of people having service length of 2-5 years"
   ]
  },
  {
   "cell_type": "code",
   "execution_count": 37,
   "metadata": {},
   "outputs": [
    {
     "data": {
      "text/plain": [
       "<matplotlib.axes._subplots.AxesSubplot at 0x28010dbbd08>"
      ]
     },
     "execution_count": 37,
     "metadata": {},
     "output_type": "execute_result"
    },
    {
     "data": {
      "image/png": "[encoded data removed]",
      "text/plain": [
       "<Figure size 432x288 with 1 Axes>"
      ]
     },
     "metadata": {
      "needs_background": "light"
     },
     "output_type": "display_data"
    }
   ],
   "source": [
    "sns.countplot(train['KPIs_met >80%'])\n",
    "#Around 30% people have met the KPI score more than 80%"
   ]
  },
  {
   "cell_type": "code",
   "execution_count": 38,
   "metadata": {},
   "outputs": [
    {
     "data": {
      "text/plain": [
       "<matplotlib.axes._subplots.AxesSubplot at 0x28010e94f88>"
      ]
     },
     "execution_count": 38,
     "metadata": {},
     "output_type": "execute_result"
    },
    {
     "data": {
      "image/png": "[encoded data removed]",
      "text/plain": [
       "<Figure size 432x288 with 1 Axes>"
      ]
     },
     "metadata": {
      "needs_background": "light"
     },
     "output_type": "display_data"
    }
   ],
   "source": [
    "sns.countplot(train['awards_won?'])\n",
    "# Very few people have won the awards only"
   ]
  },
  {
   "cell_type": "code",
   "execution_count": 39,
   "metadata": {},
   "outputs": [
    {
     "data": {
      "text/plain": [
       "<matplotlib.axes._subplots.AxesSubplot at 0x280116ae108>"
      ]
     },
     "execution_count": 39,
     "metadata": {},
     "output_type": "execute_result"
    },
    {
     "data": {
      "image/png": "[encoded data removed]",
      "text/plain": [
       "<Figure size 432x288 with 1 Axes>"
      ]
     },
     "metadata": {
      "needs_background": "light"
     },
     "output_type": "display_data"
    }
   ],
   "source": [
    "sns.distplot(train['tech_knowledge'])\n",
    "#Technical score containing average marks and no. of trainings attended.Maximum people have score around the mean value of 80 "
   ]
  },
  {
   "cell_type": "code",
   "execution_count": 40,
   "metadata": {},
   "outputs": [
    {
     "data": {
      "image/png": "[encoded data removed]",
      "text/plain": [
       "<Figure size 864x360 with 2 Axes>"
      ]
     },
     "metadata": {
      "needs_background": "light"
     },
     "output_type": "display_data"
    }
   ],
   "source": [
    "fig,ax= plt.subplots(1,1,figsize=(12,5))\n",
    "sns.heatmap(train.corr(),linewidths=.5,ax=ax,annot= True)\n",
    "plt.show()"
   ]
  },
  {
   "cell_type": "raw",
   "metadata": {},
   "source": [
    "No trend for avg_training_score\n",
    "Very few people have won the awards only\n",
    "Around 60% people have met the KPI score more than 80%\n",
    "Technical score containing average marks and no. of trainings attended.Maximum people have score around the mean value of 80 \n",
    "the company seems to have maximum strength of people having service length of 2-5 years.\n",
    "maximum people have attained rating of 3, while mimimum is 2\n",
    "maximum people have attended only 1 training while maximum training attained is 5\n",
    "Maximum candidates are of age 30-35\n",
    "Rnd have least members. However promotion is more likely."
   ]
  },
  {
   "cell_type": "markdown",
   "metadata": {},
   "source": [
    "# Bivariate Analysis"
   ]
  },
  {
   "cell_type": "code",
   "execution_count": null,
   "metadata": {},
   "outputs": [],
   "source": [
    "train.groupby('department')['avg_training_score'].mean()"
   ]
  },
  {
   "cell_type": "code",
   "execution_count": null,
   "metadata": {},
   "outputs": [],
   "source": [
    "fig,ax= plt.subplots(1,1,figsize=(12,5))\n",
    "\n",
    "sns.boxplot(x='department',y='avg_training_score',data = train,ax=ax)\n",
    "#Analytics and Rnd have scored maximum marks in training"
   ]
  },
  {
   "cell_type": "code",
   "execution_count": null,
   "metadata": {},
   "outputs": [],
   "source": [
    "fig,ax= plt.subplots(1,1,figsize=(12,5))\n",
    "sns.barplot('department',y='is_promoted',data = train,ax=ax)\n",
    "#Technology,Procurement,Analytics candidates have higher probability of getting promoted as compared to other streams\n",
    "#Although Candidates in Rnd department have higher marks scored but the promotion is not good."
   ]
  },
  {
   "cell_type": "code",
   "execution_count": null,
   "metadata": {},
   "outputs": [],
   "source": [
    "fig,ax= plt.subplots(1,1,figsize=(12,5))\n",
    "sns.barplot(x='education',y='is_promoted',data = train,ax=ax)\n"
   ]
  },
  {
   "cell_type": "code",
   "execution_count": null,
   "metadata": {},
   "outputs": [],
   "source": [
    "fig,ax= plt.subplots(1,1,figsize=(12,5))\n",
    "sns.barplot('gender',y='is_promoted',data = train,ax=ax)\n"
   ]
  },
  {
   "cell_type": "code",
   "execution_count": null,
   "metadata": {},
   "outputs": [],
   "source": [
    "fig,ax= plt.subplots(1,1,figsize=(12,5))\n",
    "sns.barplot('recruitment_channel',y='is_promoted',data = train,ax=ax)\n"
   ]
  },
  {
   "cell_type": "code",
   "execution_count": null,
   "metadata": {},
   "outputs": [],
   "source": [
    "sns.boxplot(x ='is_promoted',y='avg_training_score',data =train)"
   ]
  },
  {
   "cell_type": "code",
   "execution_count": null,
   "metadata": {},
   "outputs": [],
   "source": [
    "sns.boxplot(x='is_promoted',y='tech_knowledge',data =train)"
   ]
  },
  {
   "cell_type": "code",
   "execution_count": null,
   "metadata": {},
   "outputs": [],
   "source": [
    "sns.boxplot(x='is_promoted',y='length_of_service',data =train)"
   ]
  },
  {
   "cell_type": "raw",
   "metadata": {},
   "source": [
    "Analytics and Rnd have scored maximum marks in training.\n",
    "Technology,Procurement,Analytics candidates have higher probability of getting promoted as compared to other streams\n",
    "Although Candidates in Rnd department have higher marks scored but the promotion is not good.\n",
    "People who have joined the company through refferal mode have higher promotion rate than others.\n"
   ]
  },
  {
   "cell_type": "markdown",
   "metadata": {},
   "source": [
    "# Feature Engineering and one-hot encoding"
   ]
  },
  {
   "cell_type": "code",
   "execution_count": null,
   "metadata": {},
   "outputs": [],
   "source": [
    "sns.countplot(train.department)"
   ]
  },
  {
   "cell_type": "code",
   "execution_count": null,
   "metadata": {},
   "outputs": [],
   "source": [
    "#check for outliers -- no outliers to be removed\n",
    "#get dummies -- done\n",
    "#remove employee id -- done\n",
    "#check for region\n",
    "#modelling"
   ]
  },
  {
   "cell_type": "code",
   "execution_count": null,
   "metadata": {},
   "outputs": [],
   "source": [
    "sns.boxplot(train.avg_training_score)"
   ]
  },
  {
   "cell_type": "code",
   "execution_count": 41,
   "metadata": {},
   "outputs": [],
   "source": [
    "train =pd.get_dummies(data = train, columns =['gender','education','department','recruitment_channel'])\n"
   ]
  },
  {
   "cell_type": "code",
   "execution_count": 42,
   "metadata": {},
   "outputs": [],
   "source": [
    "test =pd.get_dummies(data = test, columns =['gender','education','department','recruitment_channel'])"
   ]
  },
  {
   "cell_type": "code",
   "execution_count": 48,
   "metadata": {},
   "outputs": [],
   "source": [
    "train.drop('employee_id',axis = 1,inplace = True)"
   ]
  },
  {
   "cell_type": "code",
   "execution_count": 49,
   "metadata": {},
   "outputs": [],
   "source": [
    "test.drop('employee_id',axis = 1,inplace =True)"
   ]
  },
  {
   "cell_type": "code",
   "execution_count": 45,
   "metadata": {},
   "outputs": [
    {
     "data": {
      "text/plain": [
       "<matplotlib.axes._subplots.AxesSubplot at 0x2801230b288>"
      ]
     },
     "execution_count": 45,
     "metadata": {},
     "output_type": "execute_result"
    },
    {
     "data": {
      "image/png": "[encoded data removed]",
      "text/plain": [
       "<Figure size 432x288 with 1 Axes>"
      ]
     },
     "metadata": {
      "needs_background": "light"
     },
     "output_type": "display_data"
    }
   ],
   "source": [
    "sns.barplot(x='region',y='is_promoted',data = train)"
   ]
  },
  {
   "cell_type": "code",
   "execution_count": 50,
   "metadata": {},
   "outputs": [],
   "source": [
    "from sklearn import preprocessing\n",
    "le = preprocessing.LabelEncoder()"
   ]
  },
  {
   "cell_type": "code",
   "execution_count": 51,
   "metadata": {},
   "outputs": [],
   "source": [
    "train['region'] = le.fit_transform(train['region'])\n",
    "test['region'] = le.transform(test['region'])"
   ]
  },
  {
   "cell_type": "code",
   "execution_count": 53,
   "metadata": {},
   "outputs": [
    {
     "name": "stdout",
     "output_type": "stream",
     "text": [
      "<class 'pandas.core.frame.DataFrame'>\n",
      "RangeIndex: 23490 entries, 0 to 23489\n",
      "Data columns (total 26 columns):\n",
      "region                          23490 non-null int32\n",
      "no_of_trainings                 23490 non-null int64\n",
      "age                             23490 non-null int64\n",
      "previous_year_rating            23490 non-null float64\n",
      "length_of_service               23490 non-null int64\n",
      "KPIs_met >80%                   23490 non-null int64\n",
      "awards_won?                     23490 non-null int64\n",
      "avg_training_score              23490 non-null int64\n",
      "tech_knowledge                  23490 non-null int64\n",
      "gender_f                        23490 non-null uint8\n",
      "gender_m                        23490 non-null uint8\n",
      "education_Bachelor's            23490 non-null uint8\n",
      "education_Below Secondary       23490 non-null uint8\n",
      "education_Master's & above      23490 non-null uint8\n",
      "department_Analytics            23490 non-null uint8\n",
      "department_Finance              23490 non-null uint8\n",
      "department_HR                   23490 non-null uint8\n",
      "department_Legal                23490 non-null uint8\n",
      "department_Operations           23490 non-null uint8\n",
      "department_Procurement          23490 non-null uint8\n",
      "department_R&D                  23490 non-null uint8\n",
      "department_Sales & Marketing    23490 non-null uint8\n",
      "department_Technology           23490 non-null uint8\n",
      "recruitment_channel_other       23490 non-null uint8\n",
      "recruitment_channel_referred    23490 non-null uint8\n",
      "recruitment_channel_sourcing    23490 non-null uint8\n",
      "dtypes: float64(1), int32(1), int64(7), uint8(17)\n",
      "memory usage: 1.9 MB\n"
     ]
    }
   ],
   "source": [
    "test.info()"
   ]
  },
  {
   "cell_type": "code",
   "execution_count": 61,
   "metadata": {},
   "outputs": [],
   "source": [
    "xtrain = train.drop('is_promoted',axis = 1)"
   ]
  },
  {
   "cell_type": "code",
   "execution_count": 62,
   "metadata": {},
   "outputs": [],
   "source": [
    "ytrain = train.is_promoted"
   ]
  },
  {
   "cell_type": "code",
   "execution_count": 64,
   "metadata": {},
   "outputs": [
    {
     "data": {
      "text/html": [
       "<div>\n",
       "<style scoped>\n",
       "    .dataframe tbody tr th:only-of-type {\n",
       "        vertical-align: middle;\n",
       "    }\n",
       "\n",
       "    .dataframe tbody tr th {\n",
       "        vertical-align: top;\n",
       "    }\n",
       "\n",
       "    .dataframe thead th {\n",
       "        text-align: right;\n",
       "    }\n",
       "</style>\n",
       "<table border=\"1\" class=\"dataframe\">\n",
       "  <thead>\n",
       "    <tr style=\"text-align: right;\">\n",
       "      <th></th>\n",
       "      <th>region</th>\n",
       "      <th>no_of_trainings</th>\n",
       "      <th>age</th>\n",
       "      <th>previous_year_rating</th>\n",
       "      <th>length_of_service</th>\n",
       "      <th>KPIs_met &gt;80%</th>\n",
       "      <th>awards_won?</th>\n",
       "      <th>avg_training_score</th>\n",
       "      <th>tech_knowledge</th>\n",
       "      <th>gender_f</th>\n",
       "      <th>...</th>\n",
       "      <th>department_HR</th>\n",
       "      <th>department_Legal</th>\n",
       "      <th>department_Operations</th>\n",
       "      <th>department_Procurement</th>\n",
       "      <th>department_R&amp;D</th>\n",
       "      <th>department_Sales &amp; Marketing</th>\n",
       "      <th>department_Technology</th>\n",
       "      <th>recruitment_channel_other</th>\n",
       "      <th>recruitment_channel_referred</th>\n",
       "      <th>recruitment_channel_sourcing</th>\n",
       "    </tr>\n",
       "  </thead>\n",
       "  <tbody>\n",
       "    <tr>\n",
       "      <td>0</td>\n",
       "      <td>18</td>\n",
       "      <td>1</td>\n",
       "      <td>24</td>\n",
       "      <td>3.0</td>\n",
       "      <td>1</td>\n",
       "      <td>1</td>\n",
       "      <td>0</td>\n",
       "      <td>77</td>\n",
       "      <td>77</td>\n",
       "      <td>0</td>\n",
       "      <td>...</td>\n",
       "      <td>0</td>\n",
       "      <td>0</td>\n",
       "      <td>0</td>\n",
       "      <td>0</td>\n",
       "      <td>0</td>\n",
       "      <td>0</td>\n",
       "      <td>1</td>\n",
       "      <td>0</td>\n",
       "      <td>0</td>\n",
       "      <td>1</td>\n",
       "    </tr>\n",
       "    <tr>\n",
       "      <td>1</td>\n",
       "      <td>28</td>\n",
       "      <td>1</td>\n",
       "      <td>31</td>\n",
       "      <td>3.0</td>\n",
       "      <td>5</td>\n",
       "      <td>0</td>\n",
       "      <td>0</td>\n",
       "      <td>51</td>\n",
       "      <td>51</td>\n",
       "      <td>1</td>\n",
       "      <td>...</td>\n",
       "      <td>1</td>\n",
       "      <td>0</td>\n",
       "      <td>0</td>\n",
       "      <td>0</td>\n",
       "      <td>0</td>\n",
       "      <td>0</td>\n",
       "      <td>0</td>\n",
       "      <td>1</td>\n",
       "      <td>0</td>\n",
       "      <td>0</td>\n",
       "    </tr>\n",
       "    <tr>\n",
       "      <td>2</td>\n",
       "      <td>4</td>\n",
       "      <td>1</td>\n",
       "      <td>31</td>\n",
       "      <td>1.0</td>\n",
       "      <td>4</td>\n",
       "      <td>0</td>\n",
       "      <td>0</td>\n",
       "      <td>47</td>\n",
       "      <td>47</td>\n",
       "      <td>0</td>\n",
       "      <td>...</td>\n",
       "      <td>0</td>\n",
       "      <td>0</td>\n",
       "      <td>0</td>\n",
       "      <td>0</td>\n",
       "      <td>0</td>\n",
       "      <td>1</td>\n",
       "      <td>0</td>\n",
       "      <td>1</td>\n",
       "      <td>0</td>\n",
       "      <td>0</td>\n",
       "    </tr>\n",
       "    <tr>\n",
       "      <td>3</td>\n",
       "      <td>11</td>\n",
       "      <td>3</td>\n",
       "      <td>31</td>\n",
       "      <td>2.0</td>\n",
       "      <td>9</td>\n",
       "      <td>0</td>\n",
       "      <td>0</td>\n",
       "      <td>65</td>\n",
       "      <td>195</td>\n",
       "      <td>1</td>\n",
       "      <td>...</td>\n",
       "      <td>0</td>\n",
       "      <td>0</td>\n",
       "      <td>0</td>\n",
       "      <td>1</td>\n",
       "      <td>0</td>\n",
       "      <td>0</td>\n",
       "      <td>0</td>\n",
       "      <td>1</td>\n",
       "      <td>0</td>\n",
       "      <td>0</td>\n",
       "    </tr>\n",
       "    <tr>\n",
       "      <td>4</td>\n",
       "      <td>21</td>\n",
       "      <td>1</td>\n",
       "      <td>30</td>\n",
       "      <td>4.0</td>\n",
       "      <td>7</td>\n",
       "      <td>0</td>\n",
       "      <td>0</td>\n",
       "      <td>61</td>\n",
       "      <td>61</td>\n",
       "      <td>0</td>\n",
       "      <td>...</td>\n",
       "      <td>0</td>\n",
       "      <td>0</td>\n",
       "      <td>0</td>\n",
       "      <td>0</td>\n",
       "      <td>0</td>\n",
       "      <td>0</td>\n",
       "      <td>0</td>\n",
       "      <td>0</td>\n",
       "      <td>0</td>\n",
       "      <td>1</td>\n",
       "    </tr>\n",
       "    <tr>\n",
       "      <td>...</td>\n",
       "      <td>...</td>\n",
       "      <td>...</td>\n",
       "      <td>...</td>\n",
       "      <td>...</td>\n",
       "      <td>...</td>\n",
       "      <td>...</td>\n",
       "      <td>...</td>\n",
       "      <td>...</td>\n",
       "      <td>...</td>\n",
       "      <td>...</td>\n",
       "      <td>...</td>\n",
       "      <td>...</td>\n",
       "      <td>...</td>\n",
       "      <td>...</td>\n",
       "      <td>...</td>\n",
       "      <td>...</td>\n",
       "      <td>...</td>\n",
       "      <td>...</td>\n",
       "      <td>...</td>\n",
       "      <td>...</td>\n",
       "      <td>...</td>\n",
       "    </tr>\n",
       "    <tr>\n",
       "      <td>23485</td>\n",
       "      <td>11</td>\n",
       "      <td>1</td>\n",
       "      <td>24</td>\n",
       "      <td>3.0</td>\n",
       "      <td>1</td>\n",
       "      <td>0</td>\n",
       "      <td>0</td>\n",
       "      <td>61</td>\n",
       "      <td>61</td>\n",
       "      <td>0</td>\n",
       "      <td>...</td>\n",
       "      <td>0</td>\n",
       "      <td>1</td>\n",
       "      <td>0</td>\n",
       "      <td>0</td>\n",
       "      <td>0</td>\n",
       "      <td>0</td>\n",
       "      <td>0</td>\n",
       "      <td>0</td>\n",
       "      <td>0</td>\n",
       "      <td>1</td>\n",
       "    </tr>\n",
       "    <tr>\n",
       "      <td>23486</td>\n",
       "      <td>17</td>\n",
       "      <td>1</td>\n",
       "      <td>31</td>\n",
       "      <td>3.0</td>\n",
       "      <td>7</td>\n",
       "      <td>0</td>\n",
       "      <td>0</td>\n",
       "      <td>74</td>\n",
       "      <td>74</td>\n",
       "      <td>0</td>\n",
       "      <td>...</td>\n",
       "      <td>0</td>\n",
       "      <td>0</td>\n",
       "      <td>0</td>\n",
       "      <td>0</td>\n",
       "      <td>0</td>\n",
       "      <td>0</td>\n",
       "      <td>1</td>\n",
       "      <td>0</td>\n",
       "      <td>0</td>\n",
       "      <td>1</td>\n",
       "    </tr>\n",
       "    <tr>\n",
       "      <td>23487</td>\n",
       "      <td>7</td>\n",
       "      <td>1</td>\n",
       "      <td>26</td>\n",
       "      <td>4.0</td>\n",
       "      <td>4</td>\n",
       "      <td>0</td>\n",
       "      <td>0</td>\n",
       "      <td>50</td>\n",
       "      <td>50</td>\n",
       "      <td>1</td>\n",
       "      <td>...</td>\n",
       "      <td>1</td>\n",
       "      <td>0</td>\n",
       "      <td>0</td>\n",
       "      <td>0</td>\n",
       "      <td>0</td>\n",
       "      <td>0</td>\n",
       "      <td>0</td>\n",
       "      <td>0</td>\n",
       "      <td>0</td>\n",
       "      <td>1</td>\n",
       "    </tr>\n",
       "    <tr>\n",
       "      <td>23488</td>\n",
       "      <td>24</td>\n",
       "      <td>3</td>\n",
       "      <td>27</td>\n",
       "      <td>3.0</td>\n",
       "      <td>1</td>\n",
       "      <td>0</td>\n",
       "      <td>0</td>\n",
       "      <td>70</td>\n",
       "      <td>210</td>\n",
       "      <td>0</td>\n",
       "      <td>...</td>\n",
       "      <td>0</td>\n",
       "      <td>0</td>\n",
       "      <td>0</td>\n",
       "      <td>1</td>\n",
       "      <td>0</td>\n",
       "      <td>0</td>\n",
       "      <td>0</td>\n",
       "      <td>0</td>\n",
       "      <td>0</td>\n",
       "      <td>1</td>\n",
       "    </tr>\n",
       "    <tr>\n",
       "      <td>23489</td>\n",
       "      <td>8</td>\n",
       "      <td>3</td>\n",
       "      <td>40</td>\n",
       "      <td>5.0</td>\n",
       "      <td>5</td>\n",
       "      <td>1</td>\n",
       "      <td>0</td>\n",
       "      <td>89</td>\n",
       "      <td>267</td>\n",
       "      <td>0</td>\n",
       "      <td>...</td>\n",
       "      <td>0</td>\n",
       "      <td>0</td>\n",
       "      <td>0</td>\n",
       "      <td>0</td>\n",
       "      <td>0</td>\n",
       "      <td>0</td>\n",
       "      <td>1</td>\n",
       "      <td>1</td>\n",
       "      <td>0</td>\n",
       "      <td>0</td>\n",
       "    </tr>\n",
       "  </tbody>\n",
       "</table>\n",
       "<p>23490 rows × 26 columns</p>\n",
       "</div>"
      ],
      "text/plain": [
       "       region  no_of_trainings  age  previous_year_rating  length_of_service  \\\n",
       "0          18                1   24                   3.0                  1   \n",
       "1          28                1   31                   3.0                  5   \n",
       "2           4                1   31                   1.0                  4   \n",
       "3          11                3   31                   2.0                  9   \n",
       "4          21                1   30                   4.0                  7   \n",
       "...       ...              ...  ...                   ...                ...   \n",
       "23485      11                1   24                   3.0                  1   \n",
       "23486      17                1   31                   3.0                  7   \n",
       "23487       7                1   26                   4.0                  4   \n",
       "23488      24                3   27                   3.0                  1   \n",
       "23489       8                3   40                   5.0                  5   \n",
       "\n",
       "       KPIs_met >80%  awards_won?  avg_training_score  tech_knowledge  \\\n",
       "0                  1            0                  77              77   \n",
       "1                  0            0                  51              51   \n",
       "2                  0            0                  47              47   \n",
       "3                  0            0                  65             195   \n",
       "4                  0            0                  61              61   \n",
       "...              ...          ...                 ...             ...   \n",
       "23485              0            0                  61              61   \n",
       "23486              0            0                  74              74   \n",
       "23487              0            0                  50              50   \n",
       "23488              0            0                  70             210   \n",
       "23489              1            0                  89             267   \n",
       "\n",
       "       gender_f  ...  department_HR  department_Legal  department_Operations  \\\n",
       "0             0  ...              0                 0                      0   \n",
       "1             1  ...              1                 0                      0   \n",
       "2             0  ...              0                 0                      0   \n",
       "3             1  ...              0                 0                      0   \n",
       "4             0  ...              0                 0                      0   \n",
       "...         ...  ...            ...               ...                    ...   \n",
       "23485         0  ...              0                 1                      0   \n",
       "23486         0  ...              0                 0                      0   \n",
       "23487         1  ...              1                 0                      0   \n",
       "23488         0  ...              0                 0                      0   \n",
       "23489         0  ...              0                 0                      0   \n",
       "\n",
       "       department_Procurement  department_R&D  department_Sales & Marketing  \\\n",
       "0                           0               0                             0   \n",
       "1                           0               0                             0   \n",
       "2                           0               0                             1   \n",
       "3                           1               0                             0   \n",
       "4                           0               0                             0   \n",
       "...                       ...             ...                           ...   \n",
       "23485                       0               0                             0   \n",
       "23486                       0               0                             0   \n",
       "23487                       0               0                             0   \n",
       "23488                       1               0                             0   \n",
       "23489                       0               0                             0   \n",
       "\n",
       "       department_Technology  recruitment_channel_other  \\\n",
       "0                          1                          0   \n",
       "1                          0                          1   \n",
       "2                          0                          1   \n",
       "3                          0                          1   \n",
       "4                          0                          0   \n",
       "...                      ...                        ...   \n",
       "23485                      0                          0   \n",
       "23486                      1                          0   \n",
       "23487                      0                          0   \n",
       "23488                      0                          0   \n",
       "23489                      1                          1   \n",
       "\n",
       "       recruitment_channel_referred  recruitment_channel_sourcing  \n",
       "0                                 0                             1  \n",
       "1                                 0                             0  \n",
       "2                                 0                             0  \n",
       "3                                 0                             0  \n",
       "4                                 0                             1  \n",
       "...                             ...                           ...  \n",
       "23485                             0                             1  \n",
       "23486                             0                             1  \n",
       "23487                             0                             1  \n",
       "23488                             0                             1  \n",
       "23489                             0                             0  \n",
       "\n",
       "[23490 rows x 26 columns]"
      ]
     },
     "execution_count": 64,
     "metadata": {},
     "output_type": "execute_result"
    }
   ],
   "source": [
    "xtest = test.copy()\n",
    "xtest"
   ]
  },
  {
   "cell_type": "code",
   "execution_count": null,
   "metadata": {},
   "outputs": [],
   "source": [
    "#preprocessing part- cross val,grid search,confusion matrix\n",
    "#logistic\n",
    "#knn\n",
    "#decision tree\n",
    "#voting classifier\n",
    "#random forest\n",
    "#bagging\n",
    "#boosting"
   ]
  },
  {
   "cell_type": "code",
   "execution_count": null,
   "metadata": {},
   "outputs": [],
   "source": []
  },
  {
   "cell_type": "markdown",
   "metadata": {},
   "source": [
    "## Logistic"
   ]
  },
  {
   "cell_type": "code",
   "execution_count": 74,
   "metadata": {},
   "outputs": [],
   "source": [
    "from sklearn.linear_model import LogisticRegression\n",
    "from sklearn.model_selection import GridSearchCV\n",
    "import numpy as np"
   ]
  },
  {
   "cell_type": "code",
   "execution_count": 77,
   "metadata": {},
   "outputs": [],
   "source": [
    "logreg = LogisticRegression()\n",
    "params = {'C':np.arange(1,20)}\n",
    "grid_cv = GridSearchCV(estimator = logreg,param_grid = params,cv = 5)\n"
   ]
  },
  {
   "cell_type": "code",
   "execution_count": 78,
   "metadata": {},
   "outputs": [
    {
     "name": "stderr",
     "output_type": "stream",
     "text": [
      "C:\\Users\\uphaa\\Anaconda3\\lib\\site-packages\\sklearn\\linear_model\\logistic.py:432: FutureWarning: Default solver will be changed to 'lbfgs' in 0.22. Specify a solver to silence this warning.\n",
      "  FutureWarning)\n",
      "C:\\Users\\uphaa\\Anaconda3\\lib\\site-packages\\sklearn\\linear_model\\logistic.py:432: FutureWarning: Default solver will be changed to 'lbfgs' in 0.22. Specify a solver to silence this warning.\n",
      "  FutureWarning)\n",
      "C:\\Users\\uphaa\\Anaconda3\\lib\\site-packages\\sklearn\\linear_model\\logistic.py:432: FutureWarning: Default solver will be changed to 'lbfgs' in 0.22. Specify a solver to silence this warning.\n",
      "  FutureWarning)\n",
      "C:\\Users\\uphaa\\Anaconda3\\lib\\site-packages\\sklearn\\linear_model\\logistic.py:432: FutureWarning: Default solver will be changed to 'lbfgs' in 0.22. Specify a solver to silence this warning.\n",
      "  FutureWarning)\n",
      "C:\\Users\\uphaa\\Anaconda3\\lib\\site-packages\\sklearn\\linear_model\\logistic.py:432: FutureWarning: Default solver will be changed to 'lbfgs' in 0.22. Specify a solver to silence this warning.\n",
      "  FutureWarning)\n",
      "C:\\Users\\uphaa\\Anaconda3\\lib\\site-packages\\sklearn\\linear_model\\logistic.py:432: FutureWarning: Default solver will be changed to 'lbfgs' in 0.22. Specify a solver to silence this warning.\n",
      "  FutureWarning)\n",
      "C:\\Users\\uphaa\\Anaconda3\\lib\\site-packages\\sklearn\\linear_model\\logistic.py:432: FutureWarning: Default solver will be changed to 'lbfgs' in 0.22. Specify a solver to silence this warning.\n",
      "  FutureWarning)\n",
      "C:\\Users\\uphaa\\Anaconda3\\lib\\site-packages\\sklearn\\linear_model\\logistic.py:432: FutureWarning: Default solver will be changed to 'lbfgs' in 0.22. Specify a solver to silence this warning.\n",
      "  FutureWarning)\n",
      "C:\\Users\\uphaa\\Anaconda3\\lib\\site-packages\\sklearn\\linear_model\\logistic.py:432: FutureWarning: Default solver will be changed to 'lbfgs' in 0.22. Specify a solver to silence this warning.\n",
      "  FutureWarning)\n",
      "C:\\Users\\uphaa\\Anaconda3\\lib\\site-packages\\sklearn\\linear_model\\logistic.py:432: FutureWarning: Default solver will be changed to 'lbfgs' in 0.22. Specify a solver to silence this warning.\n",
      "  FutureWarning)\n",
      "C:\\Users\\uphaa\\Anaconda3\\lib\\site-packages\\sklearn\\linear_model\\logistic.py:432: FutureWarning: Default solver will be changed to 'lbfgs' in 0.22. Specify a solver to silence this warning.\n",
      "  FutureWarning)\n",
      "C:\\Users\\uphaa\\Anaconda3\\lib\\site-packages\\sklearn\\linear_model\\logistic.py:432: FutureWarning: Default solver will be changed to 'lbfgs' in 0.22. Specify a solver to silence this warning.\n",
      "  FutureWarning)\n",
      "C:\\Users\\uphaa\\Anaconda3\\lib\\site-packages\\sklearn\\linear_model\\logistic.py:432: FutureWarning: Default solver will be changed to 'lbfgs' in 0.22. Specify a solver to silence this warning.\n",
      "  FutureWarning)\n",
      "C:\\Users\\uphaa\\Anaconda3\\lib\\site-packages\\sklearn\\linear_model\\logistic.py:432: FutureWarning: Default solver will be changed to 'lbfgs' in 0.22. Specify a solver to silence this warning.\n",
      "  FutureWarning)\n",
      "C:\\Users\\uphaa\\Anaconda3\\lib\\site-packages\\sklearn\\linear_model\\logistic.py:432: FutureWarning: Default solver will be changed to 'lbfgs' in 0.22. Specify a solver to silence this warning.\n",
      "  FutureWarning)\n",
      "C:\\Users\\uphaa\\Anaconda3\\lib\\site-packages\\sklearn\\linear_model\\logistic.py:432: FutureWarning: Default solver will be changed to 'lbfgs' in 0.22. Specify a solver to silence this warning.\n",
      "  FutureWarning)\n",
      "C:\\Users\\uphaa\\Anaconda3\\lib\\site-packages\\sklearn\\linear_model\\logistic.py:432: FutureWarning: Default solver will be changed to 'lbfgs' in 0.22. Specify a solver to silence this warning.\n",
      "  FutureWarning)\n",
      "C:\\Users\\uphaa\\Anaconda3\\lib\\site-packages\\sklearn\\linear_model\\logistic.py:432: FutureWarning: Default solver will be changed to 'lbfgs' in 0.22. Specify a solver to silence this warning.\n",
      "  FutureWarning)\n",
      "C:\\Users\\uphaa\\Anaconda3\\lib\\site-packages\\sklearn\\linear_model\\logistic.py:432: FutureWarning: Default solver will be changed to 'lbfgs' in 0.22. Specify a solver to silence this warning.\n",
      "  FutureWarning)\n",
      "C:\\Users\\uphaa\\Anaconda3\\lib\\site-packages\\sklearn\\linear_model\\logistic.py:432: FutureWarning: Default solver will be changed to 'lbfgs' in 0.22. Specify a solver to silence this warning.\n",
      "  FutureWarning)\n",
      "C:\\Users\\uphaa\\Anaconda3\\lib\\site-packages\\sklearn\\linear_model\\logistic.py:432: FutureWarning: Default solver will be changed to 'lbfgs' in 0.22. Specify a solver to silence this warning.\n",
      "  FutureWarning)\n",
      "C:\\Users\\uphaa\\Anaconda3\\lib\\site-packages\\sklearn\\linear_model\\logistic.py:432: FutureWarning: Default solver will be changed to 'lbfgs' in 0.22. Specify a solver to silence this warning.\n",
      "  FutureWarning)\n",
      "C:\\Users\\uphaa\\Anaconda3\\lib\\site-packages\\sklearn\\linear_model\\logistic.py:432: FutureWarning: Default solver will be changed to 'lbfgs' in 0.22. Specify a solver to silence this warning.\n",
      "  FutureWarning)\n",
      "C:\\Users\\uphaa\\Anaconda3\\lib\\site-packages\\sklearn\\linear_model\\logistic.py:432: FutureWarning: Default solver will be changed to 'lbfgs' in 0.22. Specify a solver to silence this warning.\n",
      "  FutureWarning)\n",
      "C:\\Users\\uphaa\\Anaconda3\\lib\\site-packages\\sklearn\\linear_model\\logistic.py:432: FutureWarning: Default solver will be changed to 'lbfgs' in 0.22. Specify a solver to silence this warning.\n",
      "  FutureWarning)\n",
      "C:\\Users\\uphaa\\Anaconda3\\lib\\site-packages\\sklearn\\linear_model\\logistic.py:432: FutureWarning: Default solver will be changed to 'lbfgs' in 0.22. Specify a solver to silence this warning.\n",
      "  FutureWarning)\n",
      "C:\\Users\\uphaa\\Anaconda3\\lib\\site-packages\\sklearn\\linear_model\\logistic.py:432: FutureWarning: Default solver will be changed to 'lbfgs' in 0.22. Specify a solver to silence this warning.\n",
      "  FutureWarning)\n",
      "C:\\Users\\uphaa\\Anaconda3\\lib\\site-packages\\sklearn\\linear_model\\logistic.py:432: FutureWarning: Default solver will be changed to 'lbfgs' in 0.22. Specify a solver to silence this warning.\n",
      "  FutureWarning)\n",
      "C:\\Users\\uphaa\\Anaconda3\\lib\\site-packages\\sklearn\\linear_model\\logistic.py:432: FutureWarning: Default solver will be changed to 'lbfgs' in 0.22. Specify a solver to silence this warning.\n",
      "  FutureWarning)\n",
      "C:\\Users\\uphaa\\Anaconda3\\lib\\site-packages\\sklearn\\linear_model\\logistic.py:432: FutureWarning: Default solver will be changed to 'lbfgs' in 0.22. Specify a solver to silence this warning.\n",
      "  FutureWarning)\n",
      "C:\\Users\\uphaa\\Anaconda3\\lib\\site-packages\\sklearn\\linear_model\\logistic.py:432: FutureWarning: Default solver will be changed to 'lbfgs' in 0.22. Specify a solver to silence this warning.\n",
      "  FutureWarning)\n",
      "C:\\Users\\uphaa\\Anaconda3\\lib\\site-packages\\sklearn\\linear_model\\logistic.py:432: FutureWarning: Default solver will be changed to 'lbfgs' in 0.22. Specify a solver to silence this warning.\n",
      "  FutureWarning)\n",
      "C:\\Users\\uphaa\\Anaconda3\\lib\\site-packages\\sklearn\\linear_model\\logistic.py:432: FutureWarning: Default solver will be changed to 'lbfgs' in 0.22. Specify a solver to silence this warning.\n",
      "  FutureWarning)\n",
      "C:\\Users\\uphaa\\Anaconda3\\lib\\site-packages\\sklearn\\linear_model\\logistic.py:432: FutureWarning: Default solver will be changed to 'lbfgs' in 0.22. Specify a solver to silence this warning.\n",
      "  FutureWarning)\n",
      "C:\\Users\\uphaa\\Anaconda3\\lib\\site-packages\\sklearn\\linear_model\\logistic.py:432: FutureWarning: Default solver will be changed to 'lbfgs' in 0.22. Specify a solver to silence this warning.\n",
      "  FutureWarning)\n",
      "C:\\Users\\uphaa\\Anaconda3\\lib\\site-packages\\sklearn\\linear_model\\logistic.py:432: FutureWarning: Default solver will be changed to 'lbfgs' in 0.22. Specify a solver to silence this warning.\n",
      "  FutureWarning)\n",
      "C:\\Users\\uphaa\\Anaconda3\\lib\\site-packages\\sklearn\\linear_model\\logistic.py:432: FutureWarning: Default solver will be changed to 'lbfgs' in 0.22. Specify a solver to silence this warning.\n",
      "  FutureWarning)\n",
      "C:\\Users\\uphaa\\Anaconda3\\lib\\site-packages\\sklearn\\linear_model\\logistic.py:432: FutureWarning: Default solver will be changed to 'lbfgs' in 0.22. Specify a solver to silence this warning.\n",
      "  FutureWarning)\n",
      "C:\\Users\\uphaa\\Anaconda3\\lib\\site-packages\\sklearn\\linear_model\\logistic.py:432: FutureWarning: Default solver will be changed to 'lbfgs' in 0.22. Specify a solver to silence this warning.\n",
      "  FutureWarning)\n",
      "C:\\Users\\uphaa\\Anaconda3\\lib\\site-packages\\sklearn\\linear_model\\logistic.py:432: FutureWarning: Default solver will be changed to 'lbfgs' in 0.22. Specify a solver to silence this warning.\n",
      "  FutureWarning)\n"
     ]
    },
    {
     "name": "stderr",
     "output_type": "stream",
     "text": [
      "C:\\Users\\uphaa\\Anaconda3\\lib\\site-packages\\sklearn\\linear_model\\logistic.py:432: FutureWarning: Default solver will be changed to 'lbfgs' in 0.22. Specify a solver to silence this warning.\n",
      "  FutureWarning)\n",
      "C:\\Users\\uphaa\\Anaconda3\\lib\\site-packages\\sklearn\\linear_model\\logistic.py:432: FutureWarning: Default solver will be changed to 'lbfgs' in 0.22. Specify a solver to silence this warning.\n",
      "  FutureWarning)\n",
      "C:\\Users\\uphaa\\Anaconda3\\lib\\site-packages\\sklearn\\linear_model\\logistic.py:432: FutureWarning: Default solver will be changed to 'lbfgs' in 0.22. Specify a solver to silence this warning.\n",
      "  FutureWarning)\n",
      "C:\\Users\\uphaa\\Anaconda3\\lib\\site-packages\\sklearn\\linear_model\\logistic.py:432: FutureWarning: Default solver will be changed to 'lbfgs' in 0.22. Specify a solver to silence this warning.\n",
      "  FutureWarning)\n",
      "C:\\Users\\uphaa\\Anaconda3\\lib\\site-packages\\sklearn\\linear_model\\logistic.py:432: FutureWarning: Default solver will be changed to 'lbfgs' in 0.22. Specify a solver to silence this warning.\n",
      "  FutureWarning)\n",
      "C:\\Users\\uphaa\\Anaconda3\\lib\\site-packages\\sklearn\\linear_model\\logistic.py:432: FutureWarning: Default solver will be changed to 'lbfgs' in 0.22. Specify a solver to silence this warning.\n",
      "  FutureWarning)\n",
      "C:\\Users\\uphaa\\Anaconda3\\lib\\site-packages\\sklearn\\linear_model\\logistic.py:432: FutureWarning: Default solver will be changed to 'lbfgs' in 0.22. Specify a solver to silence this warning.\n",
      "  FutureWarning)\n",
      "C:\\Users\\uphaa\\Anaconda3\\lib\\site-packages\\sklearn\\linear_model\\logistic.py:432: FutureWarning: Default solver will be changed to 'lbfgs' in 0.22. Specify a solver to silence this warning.\n",
      "  FutureWarning)\n",
      "C:\\Users\\uphaa\\Anaconda3\\lib\\site-packages\\sklearn\\linear_model\\logistic.py:432: FutureWarning: Default solver will be changed to 'lbfgs' in 0.22. Specify a solver to silence this warning.\n",
      "  FutureWarning)\n",
      "C:\\Users\\uphaa\\Anaconda3\\lib\\site-packages\\sklearn\\linear_model\\logistic.py:432: FutureWarning: Default solver will be changed to 'lbfgs' in 0.22. Specify a solver to silence this warning.\n",
      "  FutureWarning)\n",
      "C:\\Users\\uphaa\\Anaconda3\\lib\\site-packages\\sklearn\\linear_model\\logistic.py:432: FutureWarning: Default solver will be changed to 'lbfgs' in 0.22. Specify a solver to silence this warning.\n",
      "  FutureWarning)\n",
      "C:\\Users\\uphaa\\Anaconda3\\lib\\site-packages\\sklearn\\linear_model\\logistic.py:432: FutureWarning: Default solver will be changed to 'lbfgs' in 0.22. Specify a solver to silence this warning.\n",
      "  FutureWarning)\n",
      "C:\\Users\\uphaa\\Anaconda3\\lib\\site-packages\\sklearn\\linear_model\\logistic.py:432: FutureWarning: Default solver will be changed to 'lbfgs' in 0.22. Specify a solver to silence this warning.\n",
      "  FutureWarning)\n",
      "C:\\Users\\uphaa\\Anaconda3\\lib\\site-packages\\sklearn\\linear_model\\logistic.py:432: FutureWarning: Default solver will be changed to 'lbfgs' in 0.22. Specify a solver to silence this warning.\n",
      "  FutureWarning)\n",
      "C:\\Users\\uphaa\\Anaconda3\\lib\\site-packages\\sklearn\\linear_model\\logistic.py:432: FutureWarning: Default solver will be changed to 'lbfgs' in 0.22. Specify a solver to silence this warning.\n",
      "  FutureWarning)\n",
      "C:\\Users\\uphaa\\Anaconda3\\lib\\site-packages\\sklearn\\linear_model\\logistic.py:432: FutureWarning: Default solver will be changed to 'lbfgs' in 0.22. Specify a solver to silence this warning.\n",
      "  FutureWarning)\n",
      "C:\\Users\\uphaa\\Anaconda3\\lib\\site-packages\\sklearn\\linear_model\\logistic.py:432: FutureWarning: Default solver will be changed to 'lbfgs' in 0.22. Specify a solver to silence this warning.\n",
      "  FutureWarning)\n",
      "C:\\Users\\uphaa\\Anaconda3\\lib\\site-packages\\sklearn\\linear_model\\logistic.py:432: FutureWarning: Default solver will be changed to 'lbfgs' in 0.22. Specify a solver to silence this warning.\n",
      "  FutureWarning)\n",
      "C:\\Users\\uphaa\\Anaconda3\\lib\\site-packages\\sklearn\\linear_model\\logistic.py:432: FutureWarning: Default solver will be changed to 'lbfgs' in 0.22. Specify a solver to silence this warning.\n",
      "  FutureWarning)\n",
      "C:\\Users\\uphaa\\Anaconda3\\lib\\site-packages\\sklearn\\linear_model\\logistic.py:432: FutureWarning: Default solver will be changed to 'lbfgs' in 0.22. Specify a solver to silence this warning.\n",
      "  FutureWarning)\n",
      "C:\\Users\\uphaa\\Anaconda3\\lib\\site-packages\\sklearn\\linear_model\\logistic.py:432: FutureWarning: Default solver will be changed to 'lbfgs' in 0.22. Specify a solver to silence this warning.\n",
      "  FutureWarning)\n",
      "C:\\Users\\uphaa\\Anaconda3\\lib\\site-packages\\sklearn\\linear_model\\logistic.py:432: FutureWarning: Default solver will be changed to 'lbfgs' in 0.22. Specify a solver to silence this warning.\n",
      "  FutureWarning)\n",
      "C:\\Users\\uphaa\\Anaconda3\\lib\\site-packages\\sklearn\\linear_model\\logistic.py:432: FutureWarning: Default solver will be changed to 'lbfgs' in 0.22. Specify a solver to silence this warning.\n",
      "  FutureWarning)\n",
      "C:\\Users\\uphaa\\Anaconda3\\lib\\site-packages\\sklearn\\linear_model\\logistic.py:432: FutureWarning: Default solver will be changed to 'lbfgs' in 0.22. Specify a solver to silence this warning.\n",
      "  FutureWarning)\n",
      "C:\\Users\\uphaa\\Anaconda3\\lib\\site-packages\\sklearn\\linear_model\\logistic.py:432: FutureWarning: Default solver will be changed to 'lbfgs' in 0.22. Specify a solver to silence this warning.\n",
      "  FutureWarning)\n",
      "C:\\Users\\uphaa\\Anaconda3\\lib\\site-packages\\sklearn\\linear_model\\logistic.py:432: FutureWarning: Default solver will be changed to 'lbfgs' in 0.22. Specify a solver to silence this warning.\n",
      "  FutureWarning)\n",
      "C:\\Users\\uphaa\\Anaconda3\\lib\\site-packages\\sklearn\\linear_model\\logistic.py:432: FutureWarning: Default solver will be changed to 'lbfgs' in 0.22. Specify a solver to silence this warning.\n",
      "  FutureWarning)\n",
      "C:\\Users\\uphaa\\Anaconda3\\lib\\site-packages\\sklearn\\linear_model\\logistic.py:432: FutureWarning: Default solver will be changed to 'lbfgs' in 0.22. Specify a solver to silence this warning.\n",
      "  FutureWarning)\n",
      "C:\\Users\\uphaa\\Anaconda3\\lib\\site-packages\\sklearn\\linear_model\\logistic.py:432: FutureWarning: Default solver will be changed to 'lbfgs' in 0.22. Specify a solver to silence this warning.\n",
      "  FutureWarning)\n",
      "C:\\Users\\uphaa\\Anaconda3\\lib\\site-packages\\sklearn\\linear_model\\logistic.py:432: FutureWarning: Default solver will be changed to 'lbfgs' in 0.22. Specify a solver to silence this warning.\n",
      "  FutureWarning)\n",
      "C:\\Users\\uphaa\\Anaconda3\\lib\\site-packages\\sklearn\\linear_model\\logistic.py:432: FutureWarning: Default solver will be changed to 'lbfgs' in 0.22. Specify a solver to silence this warning.\n",
      "  FutureWarning)\n",
      "C:\\Users\\uphaa\\Anaconda3\\lib\\site-packages\\sklearn\\linear_model\\logistic.py:432: FutureWarning: Default solver will be changed to 'lbfgs' in 0.22. Specify a solver to silence this warning.\n",
      "  FutureWarning)\n",
      "C:\\Users\\uphaa\\Anaconda3\\lib\\site-packages\\sklearn\\linear_model\\logistic.py:432: FutureWarning: Default solver will be changed to 'lbfgs' in 0.22. Specify a solver to silence this warning.\n",
      "  FutureWarning)\n",
      "C:\\Users\\uphaa\\Anaconda3\\lib\\site-packages\\sklearn\\linear_model\\logistic.py:432: FutureWarning: Default solver will be changed to 'lbfgs' in 0.22. Specify a solver to silence this warning.\n",
      "  FutureWarning)\n",
      "C:\\Users\\uphaa\\Anaconda3\\lib\\site-packages\\sklearn\\linear_model\\logistic.py:432: FutureWarning: Default solver will be changed to 'lbfgs' in 0.22. Specify a solver to silence this warning.\n",
      "  FutureWarning)\n",
      "C:\\Users\\uphaa\\Anaconda3\\lib\\site-packages\\sklearn\\linear_model\\logistic.py:432: FutureWarning: Default solver will be changed to 'lbfgs' in 0.22. Specify a solver to silence this warning.\n",
      "  FutureWarning)\n",
      "C:\\Users\\uphaa\\Anaconda3\\lib\\site-packages\\sklearn\\linear_model\\logistic.py:432: FutureWarning: Default solver will be changed to 'lbfgs' in 0.22. Specify a solver to silence this warning.\n",
      "  FutureWarning)\n",
      "C:\\Users\\uphaa\\Anaconda3\\lib\\site-packages\\sklearn\\linear_model\\logistic.py:432: FutureWarning: Default solver will be changed to 'lbfgs' in 0.22. Specify a solver to silence this warning.\n",
      "  FutureWarning)\n",
      "C:\\Users\\uphaa\\Anaconda3\\lib\\site-packages\\sklearn\\linear_model\\logistic.py:432: FutureWarning: Default solver will be changed to 'lbfgs' in 0.22. Specify a solver to silence this warning.\n",
      "  FutureWarning)\n",
      "C:\\Users\\uphaa\\Anaconda3\\lib\\site-packages\\sklearn\\linear_model\\logistic.py:432: FutureWarning: Default solver will be changed to 'lbfgs' in 0.22. Specify a solver to silence this warning.\n",
      "  FutureWarning)\n"
     ]
    },
    {
     "name": "stderr",
     "output_type": "stream",
     "text": [
      "C:\\Users\\uphaa\\Anaconda3\\lib\\site-packages\\sklearn\\linear_model\\logistic.py:432: FutureWarning: Default solver will be changed to 'lbfgs' in 0.22. Specify a solver to silence this warning.\n",
      "  FutureWarning)\n",
      "C:\\Users\\uphaa\\Anaconda3\\lib\\site-packages\\sklearn\\linear_model\\logistic.py:432: FutureWarning: Default solver will be changed to 'lbfgs' in 0.22. Specify a solver to silence this warning.\n",
      "  FutureWarning)\n",
      "C:\\Users\\uphaa\\Anaconda3\\lib\\site-packages\\sklearn\\linear_model\\logistic.py:432: FutureWarning: Default solver will be changed to 'lbfgs' in 0.22. Specify a solver to silence this warning.\n",
      "  FutureWarning)\n",
      "C:\\Users\\uphaa\\Anaconda3\\lib\\site-packages\\sklearn\\linear_model\\logistic.py:432: FutureWarning: Default solver will be changed to 'lbfgs' in 0.22. Specify a solver to silence this warning.\n",
      "  FutureWarning)\n",
      "C:\\Users\\uphaa\\Anaconda3\\lib\\site-packages\\sklearn\\linear_model\\logistic.py:432: FutureWarning: Default solver will be changed to 'lbfgs' in 0.22. Specify a solver to silence this warning.\n",
      "  FutureWarning)\n",
      "C:\\Users\\uphaa\\Anaconda3\\lib\\site-packages\\sklearn\\linear_model\\logistic.py:432: FutureWarning: Default solver will be changed to 'lbfgs' in 0.22. Specify a solver to silence this warning.\n",
      "  FutureWarning)\n",
      "C:\\Users\\uphaa\\Anaconda3\\lib\\site-packages\\sklearn\\linear_model\\logistic.py:432: FutureWarning: Default solver will be changed to 'lbfgs' in 0.22. Specify a solver to silence this warning.\n",
      "  FutureWarning)\n",
      "C:\\Users\\uphaa\\Anaconda3\\lib\\site-packages\\sklearn\\linear_model\\logistic.py:432: FutureWarning: Default solver will be changed to 'lbfgs' in 0.22. Specify a solver to silence this warning.\n",
      "  FutureWarning)\n",
      "C:\\Users\\uphaa\\Anaconda3\\lib\\site-packages\\sklearn\\linear_model\\logistic.py:432: FutureWarning: Default solver will be changed to 'lbfgs' in 0.22. Specify a solver to silence this warning.\n",
      "  FutureWarning)\n",
      "C:\\Users\\uphaa\\Anaconda3\\lib\\site-packages\\sklearn\\linear_model\\logistic.py:432: FutureWarning: Default solver will be changed to 'lbfgs' in 0.22. Specify a solver to silence this warning.\n",
      "  FutureWarning)\n",
      "C:\\Users\\uphaa\\Anaconda3\\lib\\site-packages\\sklearn\\linear_model\\logistic.py:432: FutureWarning: Default solver will be changed to 'lbfgs' in 0.22. Specify a solver to silence this warning.\n",
      "  FutureWarning)\n",
      "C:\\Users\\uphaa\\Anaconda3\\lib\\site-packages\\sklearn\\linear_model\\logistic.py:432: FutureWarning: Default solver will be changed to 'lbfgs' in 0.22. Specify a solver to silence this warning.\n",
      "  FutureWarning)\n",
      "C:\\Users\\uphaa\\Anaconda3\\lib\\site-packages\\sklearn\\linear_model\\logistic.py:432: FutureWarning: Default solver will be changed to 'lbfgs' in 0.22. Specify a solver to silence this warning.\n",
      "  FutureWarning)\n",
      "C:\\Users\\uphaa\\Anaconda3\\lib\\site-packages\\sklearn\\linear_model\\logistic.py:432: FutureWarning: Default solver will be changed to 'lbfgs' in 0.22. Specify a solver to silence this warning.\n",
      "  FutureWarning)\n",
      "C:\\Users\\uphaa\\Anaconda3\\lib\\site-packages\\sklearn\\linear_model\\logistic.py:432: FutureWarning: Default solver will be changed to 'lbfgs' in 0.22. Specify a solver to silence this warning.\n",
      "  FutureWarning)\n",
      "C:\\Users\\uphaa\\Anaconda3\\lib\\site-packages\\sklearn\\linear_model\\logistic.py:432: FutureWarning: Default solver will be changed to 'lbfgs' in 0.22. Specify a solver to silence this warning.\n",
      "  FutureWarning)\n"
     ]
    },
    {
     "data": {
      "text/plain": [
       "GridSearchCV(cv=5, error_score='raise-deprecating',\n",
       "             estimator=LogisticRegression(C=1.0, class_weight=None, dual=False,\n",
       "                                          fit_intercept=True,\n",
       "                                          intercept_scaling=1, l1_ratio=None,\n",
       "                                          max_iter=100, multi_class='warn',\n",
       "                                          n_jobs=None, penalty='l2',\n",
       "                                          random_state=None, solver='warn',\n",
       "                                          tol=0.0001, verbose=0,\n",
       "                                          warm_start=False),\n",
       "             iid='warn', n_jobs=None,\n",
       "             param_grid={'C': array([ 1,  2,  3,  4,  5,  6,  7,  8,  9, 10, 11, 12, 13, 14, 15, 16, 17,\n",
       "       18, 19])},\n",
       "             pre_dispatch='2*n_jobs', refit=True, return_train_score=False,\n",
       "             scoring=None, verbose=0)"
      ]
     },
     "execution_count": 78,
     "metadata": {},
     "output_type": "execute_result"
    }
   ],
   "source": [
    "grid_cv.fit(xtrain,ytrain)"
   ]
  },
  {
   "cell_type": "code",
   "execution_count": 79,
   "metadata": {},
   "outputs": [
    {
     "data": {
      "text/plain": [
       "{'C': 8}"
      ]
     },
     "execution_count": 79,
     "metadata": {},
     "output_type": "execute_result"
    }
   ],
   "source": [
    "grid_cv.best_params_"
   ]
  },
  {
   "cell_type": "code",
   "execution_count": 81,
   "metadata": {},
   "outputs": [
    {
     "name": "stderr",
     "output_type": "stream",
     "text": [
      "C:\\Users\\uphaa\\Anaconda3\\lib\\site-packages\\sklearn\\linear_model\\logistic.py:432: FutureWarning: Default solver will be changed to 'lbfgs' in 0.22. Specify a solver to silence this warning.\n",
      "  FutureWarning)\n"
     ]
    }
   ],
   "source": [
    "logreg = LogisticRegression(C=8)\n",
    "logreg.fit(xtrain,ytrain)\n",
    "ypred = logreg.predict(xtest)"
   ]
  },
  {
   "cell_type": "code",
   "execution_count": 83,
   "metadata": {},
   "outputs": [],
   "source": [
    "df3['is_promoted'] = ypred"
   ]
  },
  {
   "cell_type": "code",
   "execution_count": 86,
   "metadata": {},
   "outputs": [],
   "source": [
    "df3.to_csv('HR_sol1.csv',columns = ['employee_id', 'is_promoted'], index = False)"
   ]
  },
  {
   "cell_type": "code",
   "execution_count": null,
   "metadata": {},
   "outputs": [],
   "source": [
    "#using gridcv score was increased"
   ]
  },
  {
   "cell_type": "markdown",
   "metadata": {},
   "source": [
    "## Cat Boost"
   ]
  },
  {
   "cell_type": "code",
   "execution_count": 97,
   "metadata": {},
   "outputs": [],
   "source": [
    "import xgboost as xgb\n",
    "from lightgbm import LGBMClassifier\n",
    "from catboost import CatBoostClassifier\n",
    "from sklearn.metrics import precision_score\n",
    "from sklearn.metrics import recall_score\n",
    "from sklearn.metrics import roc_auc_score\n",
    "from sklearn.metrics import f1_score\n",
    "\n",
    "model = CatBoostClassifier(learning_rate=0.12, n_estimators=200, max_depth=4, subsample=0.8,\n",
    "                           loss_function='MultiClass', bootstrap_type='Bernoulli')"
   ]
  },
  {
   "cell_type": "code",
   "execution_count": 98,
   "metadata": {},
   "outputs": [
    {
     "name": "stdout",
     "output_type": "stream",
     "text": [
      "0:\tlearn: 0.6100188\ttotal: 103ms\tremaining: 20.5s\n",
      "1:\tlearn: 0.5453203\ttotal: 127ms\tremaining: 12.5s\n",
      "2:\tlearn: 0.4934497\ttotal: 177ms\tremaining: 11.6s\n",
      "3:\tlearn: 0.4515146\ttotal: 221ms\tremaining: 10.8s\n",
      "4:\tlearn: 0.4172607\ttotal: 245ms\tremaining: 9.54s\n",
      "5:\tlearn: 0.3890178\ttotal: 298ms\tremaining: 9.64s\n",
      "6:\tlearn: 0.3647847\ttotal: 319ms\tremaining: 8.8s\n",
      "7:\tlearn: 0.3440585\ttotal: 359ms\tremaining: 8.61s\n",
      "8:\tlearn: 0.3274135\ttotal: 378ms\tremaining: 8.02s\n",
      "9:\tlearn: 0.3126913\ttotal: 413ms\tremaining: 7.84s\n",
      "10:\tlearn: 0.3017114\ttotal: 438ms\tremaining: 7.53s\n",
      "11:\tlearn: 0.2882368\ttotal: 461ms\tremaining: 7.23s\n",
      "12:\tlearn: 0.2783376\ttotal: 487ms\tremaining: 7s\n",
      "13:\tlearn: 0.2706951\ttotal: 508ms\tremaining: 6.74s\n",
      "14:\tlearn: 0.2636814\ttotal: 535ms\tremaining: 6.59s\n",
      "15:\tlearn: 0.2572106\ttotal: 556ms\tremaining: 6.39s\n",
      "16:\tlearn: 0.2522350\ttotal: 582ms\tremaining: 6.26s\n",
      "17:\tlearn: 0.2484428\ttotal: 602ms\tremaining: 6.08s\n",
      "18:\tlearn: 0.2404572\ttotal: 626ms\tremaining: 5.97s\n",
      "19:\tlearn: 0.2360789\ttotal: 642ms\tremaining: 5.77s\n",
      "20:\tlearn: 0.2311966\ttotal: 666ms\tremaining: 5.68s\n",
      "21:\tlearn: 0.2282447\ttotal: 683ms\tremaining: 5.53s\n",
      "22:\tlearn: 0.2245538\ttotal: 700ms\tremaining: 5.39s\n",
      "23:\tlearn: 0.2229772\ttotal: 718ms\tremaining: 5.26s\n",
      "24:\tlearn: 0.2203863\ttotal: 736ms\tremaining: 5.16s\n",
      "25:\tlearn: 0.2189867\ttotal: 755ms\tremaining: 5.05s\n",
      "26:\tlearn: 0.2155221\ttotal: 775ms\tremaining: 4.97s\n",
      "27:\tlearn: 0.2123110\ttotal: 793ms\tremaining: 4.87s\n",
      "28:\tlearn: 0.2106798\ttotal: 819ms\tremaining: 4.83s\n",
      "29:\tlearn: 0.2084598\ttotal: 840ms\tremaining: 4.76s\n",
      "30:\tlearn: 0.2070009\ttotal: 855ms\tremaining: 4.66s\n",
      "31:\tlearn: 0.2055113\ttotal: 873ms\tremaining: 4.58s\n",
      "32:\tlearn: 0.2042104\ttotal: 888ms\tremaining: 4.49s\n",
      "33:\tlearn: 0.2029736\ttotal: 905ms\tremaining: 4.42s\n",
      "34:\tlearn: 0.2015241\ttotal: 923ms\tremaining: 4.35s\n",
      "35:\tlearn: 0.2007666\ttotal: 941ms\tremaining: 4.29s\n",
      "36:\tlearn: 0.2003141\ttotal: 960ms\tremaining: 4.23s\n",
      "37:\tlearn: 0.1982660\ttotal: 977ms\tremaining: 4.17s\n",
      "38:\tlearn: 0.1964180\ttotal: 994ms\tremaining: 4.1s\n",
      "39:\tlearn: 0.1951635\ttotal: 1.01s\tremaining: 4.05s\n",
      "40:\tlearn: 0.1939744\ttotal: 1.03s\tremaining: 4s\n",
      "41:\tlearn: 0.1936312\ttotal: 1.05s\tremaining: 3.96s\n",
      "42:\tlearn: 0.1932163\ttotal: 1.07s\tremaining: 3.91s\n",
      "43:\tlearn: 0.1927963\ttotal: 1.1s\tremaining: 3.89s\n",
      "44:\tlearn: 0.1926461\ttotal: 1.12s\tremaining: 3.86s\n",
      "45:\tlearn: 0.1919993\ttotal: 1.14s\tremaining: 3.8s\n",
      "46:\tlearn: 0.1917377\ttotal: 1.16s\tremaining: 3.76s\n",
      "47:\tlearn: 0.1907193\ttotal: 1.17s\tremaining: 3.71s\n",
      "48:\tlearn: 0.1899933\ttotal: 1.19s\tremaining: 3.66s\n",
      "49:\tlearn: 0.1896311\ttotal: 1.21s\tremaining: 3.62s\n",
      "50:\tlearn: 0.1892957\ttotal: 1.23s\tremaining: 3.59s\n",
      "51:\tlearn: 0.1884151\ttotal: 1.25s\tremaining: 3.56s\n",
      "52:\tlearn: 0.1877196\ttotal: 1.28s\tremaining: 3.54s\n",
      "53:\tlearn: 0.1874491\ttotal: 1.29s\tremaining: 3.5s\n",
      "54:\tlearn: 0.1872077\ttotal: 1.31s\tremaining: 3.46s\n",
      "55:\tlearn: 0.1870698\ttotal: 1.33s\tremaining: 3.42s\n",
      "56:\tlearn: 0.1862545\ttotal: 1.35s\tremaining: 3.4s\n",
      "57:\tlearn: 0.1859363\ttotal: 1.39s\tremaining: 3.41s\n",
      "58:\tlearn: 0.1857426\ttotal: 1.41s\tremaining: 3.38s\n",
      "59:\tlearn: 0.1846687\ttotal: 1.45s\tremaining: 3.38s\n",
      "60:\tlearn: 0.1843287\ttotal: 1.47s\tremaining: 3.35s\n",
      "61:\tlearn: 0.1838874\ttotal: 1.51s\tremaining: 3.36s\n",
      "62:\tlearn: 0.1831229\ttotal: 1.53s\tremaining: 3.32s\n",
      "63:\tlearn: 0.1822990\ttotal: 1.55s\tremaining: 3.29s\n",
      "64:\tlearn: 0.1820581\ttotal: 1.57s\tremaining: 3.25s\n",
      "65:\tlearn: 0.1818704\ttotal: 1.59s\tremaining: 3.24s\n",
      "66:\tlearn: 0.1817934\ttotal: 1.61s\tremaining: 3.21s\n",
      "67:\tlearn: 0.1816412\ttotal: 1.63s\tremaining: 3.17s\n",
      "68:\tlearn: 0.1813457\ttotal: 1.66s\tremaining: 3.15s\n",
      "69:\tlearn: 0.1810062\ttotal: 1.67s\tremaining: 3.11s\n",
      "70:\tlearn: 0.1802602\ttotal: 1.69s\tremaining: 3.08s\n",
      "71:\tlearn: 0.1801679\ttotal: 1.71s\tremaining: 3.04s\n",
      "72:\tlearn: 0.1800773\ttotal: 1.73s\tremaining: 3s\n",
      "73:\tlearn: 0.1795323\ttotal: 1.75s\tremaining: 2.97s\n",
      "74:\tlearn: 0.1791731\ttotal: 1.76s\tremaining: 2.94s\n",
      "75:\tlearn: 0.1790952\ttotal: 1.78s\tremaining: 2.91s\n",
      "76:\tlearn: 0.1781444\ttotal: 1.81s\tremaining: 2.89s\n",
      "77:\tlearn: 0.1779862\ttotal: 1.82s\tremaining: 2.85s\n",
      "78:\tlearn: 0.1777811\ttotal: 1.84s\tremaining: 2.82s\n",
      "79:\tlearn: 0.1777087\ttotal: 1.86s\tremaining: 2.79s\n",
      "80:\tlearn: 0.1775803\ttotal: 1.88s\tremaining: 2.76s\n",
      "81:\tlearn: 0.1768932\ttotal: 1.9s\tremaining: 2.73s\n",
      "82:\tlearn: 0.1767004\ttotal: 1.91s\tremaining: 2.69s\n",
      "83:\tlearn: 0.1762623\ttotal: 1.94s\tremaining: 2.67s\n",
      "84:\tlearn: 0.1757088\ttotal: 1.96s\tremaining: 2.65s\n",
      "85:\tlearn: 0.1755117\ttotal: 1.98s\tremaining: 2.63s\n",
      "86:\tlearn: 0.1753314\ttotal: 2.01s\tremaining: 2.61s\n",
      "87:\tlearn: 0.1752557\ttotal: 2.03s\tremaining: 2.58s\n",
      "88:\tlearn: 0.1748907\ttotal: 2.05s\tremaining: 2.56s\n",
      "89:\tlearn: 0.1748309\ttotal: 2.07s\tremaining: 2.53s\n",
      "90:\tlearn: 0.1744271\ttotal: 2.08s\tremaining: 2.5s\n",
      "91:\tlearn: 0.1740327\ttotal: 2.11s\tremaining: 2.47s\n",
      "92:\tlearn: 0.1739658\ttotal: 2.13s\tremaining: 2.45s\n",
      "93:\tlearn: 0.1735804\ttotal: 2.14s\tremaining: 2.42s\n",
      "94:\tlearn: 0.1735057\ttotal: 2.16s\tremaining: 2.38s\n",
      "95:\tlearn: 0.1734416\ttotal: 2.17s\tremaining: 2.36s\n",
      "96:\tlearn: 0.1731106\ttotal: 2.19s\tremaining: 2.33s\n",
      "97:\tlearn: 0.1730138\ttotal: 2.21s\tremaining: 2.3s\n",
      "98:\tlearn: 0.1729091\ttotal: 2.23s\tremaining: 2.27s\n",
      "99:\tlearn: 0.1727758\ttotal: 2.25s\tremaining: 2.25s\n",
      "100:\tlearn: 0.1722893\ttotal: 2.27s\tremaining: 2.22s\n",
      "101:\tlearn: 0.1722095\ttotal: 2.28s\tremaining: 2.19s\n",
      "102:\tlearn: 0.1719319\ttotal: 2.3s\tremaining: 2.17s\n",
      "103:\tlearn: 0.1718585\ttotal: 2.32s\tremaining: 2.14s\n",
      "104:\tlearn: 0.1715164\ttotal: 2.33s\tremaining: 2.11s\n",
      "105:\tlearn: 0.1712223\ttotal: 2.35s\tremaining: 2.08s\n",
      "106:\tlearn: 0.1709997\ttotal: 2.37s\tremaining: 2.06s\n",
      "107:\tlearn: 0.1709407\ttotal: 2.38s\tremaining: 2.03s\n",
      "108:\tlearn: 0.1706481\ttotal: 2.4s\tremaining: 2.01s\n",
      "109:\tlearn: 0.1704635\ttotal: 2.42s\tremaining: 1.98s\n",
      "110:\tlearn: 0.1703802\ttotal: 2.45s\tremaining: 1.96s\n",
      "111:\tlearn: 0.1703111\ttotal: 2.46s\tremaining: 1.94s\n",
      "112:\tlearn: 0.1699235\ttotal: 2.49s\tremaining: 1.92s\n",
      "113:\tlearn: 0.1698594\ttotal: 2.51s\tremaining: 1.89s\n",
      "114:\tlearn: 0.1697754\ttotal: 2.54s\tremaining: 1.87s\n",
      "115:\tlearn: 0.1696917\ttotal: 2.56s\tremaining: 1.85s\n",
      "116:\tlearn: 0.1696380\ttotal: 2.6s\tremaining: 1.84s\n",
      "117:\tlearn: 0.1695307\ttotal: 2.62s\tremaining: 1.82s\n",
      "118:\tlearn: 0.1694639\ttotal: 2.66s\tremaining: 1.81s\n",
      "119:\tlearn: 0.1694367\ttotal: 2.68s\tremaining: 1.79s\n",
      "120:\tlearn: 0.1692516\ttotal: 2.71s\tremaining: 1.77s\n",
      "121:\tlearn: 0.1692011\ttotal: 2.73s\tremaining: 1.75s\n",
      "122:\tlearn: 0.1689435\ttotal: 2.76s\tremaining: 1.73s\n",
      "123:\tlearn: 0.1688785\ttotal: 2.78s\tremaining: 1.7s\n",
      "124:\tlearn: 0.1686806\ttotal: 2.8s\tremaining: 1.68s\n",
      "125:\tlearn: 0.1685266\ttotal: 2.81s\tremaining: 1.65s\n",
      "126:\tlearn: 0.1684940\ttotal: 2.84s\tremaining: 1.63s\n",
      "127:\tlearn: 0.1683590\ttotal: 2.85s\tremaining: 1.6s\n",
      "128:\tlearn: 0.1682712\ttotal: 2.88s\tremaining: 1.58s\n",
      "129:\tlearn: 0.1678948\ttotal: 2.9s\tremaining: 1.56s\n",
      "130:\tlearn: 0.1676094\ttotal: 2.92s\tremaining: 1.54s\n",
      "131:\tlearn: 0.1675747\ttotal: 2.94s\tremaining: 1.51s\n",
      "132:\tlearn: 0.1673881\ttotal: 2.96s\tremaining: 1.49s\n",
      "133:\tlearn: 0.1672846\ttotal: 2.99s\tremaining: 1.47s\n",
      "134:\tlearn: 0.1672454\ttotal: 3s\tremaining: 1.45s\n",
      "135:\tlearn: 0.1671759\ttotal: 3.02s\tremaining: 1.42s\n",
      "136:\tlearn: 0.1668934\ttotal: 3.05s\tremaining: 1.4s\n",
      "137:\tlearn: 0.1666764\ttotal: 3.07s\tremaining: 1.38s\n",
      "138:\tlearn: 0.1666055\ttotal: 3.09s\tremaining: 1.36s\n",
      "139:\tlearn: 0.1665125\ttotal: 3.11s\tremaining: 1.33s\n",
      "140:\tlearn: 0.1664331\ttotal: 3.13s\tremaining: 1.31s\n",
      "141:\tlearn: 0.1663145\ttotal: 3.14s\tremaining: 1.28s\n",
      "142:\tlearn: 0.1662775\ttotal: 3.16s\tremaining: 1.26s\n",
      "143:\tlearn: 0.1662133\ttotal: 3.17s\tremaining: 1.23s\n",
      "144:\tlearn: 0.1661599\ttotal: 3.19s\tremaining: 1.21s\n",
      "145:\tlearn: 0.1660987\ttotal: 3.21s\tremaining: 1.19s\n",
      "146:\tlearn: 0.1660310\ttotal: 3.22s\tremaining: 1.16s\n",
      "147:\tlearn: 0.1659246\ttotal: 3.24s\tremaining: 1.14s\n",
      "148:\tlearn: 0.1658793\ttotal: 3.26s\tremaining: 1.12s\n",
      "149:\tlearn: 0.1657585\ttotal: 3.28s\tremaining: 1.09s\n",
      "150:\tlearn: 0.1657409\ttotal: 3.3s\tremaining: 1.07s\n",
      "151:\tlearn: 0.1656208\ttotal: 3.31s\tremaining: 1.05s\n",
      "152:\tlearn: 0.1654869\ttotal: 3.33s\tremaining: 1.02s\n",
      "153:\tlearn: 0.1654391\ttotal: 3.35s\tremaining: 1s\n",
      "154:\tlearn: 0.1652406\ttotal: 3.37s\tremaining: 978ms\n",
      "155:\tlearn: 0.1651943\ttotal: 3.38s\tremaining: 955ms\n",
      "156:\tlearn: 0.1651451\ttotal: 3.4s\tremaining: 932ms\n",
      "157:\tlearn: 0.1651185\ttotal: 3.42s\tremaining: 909ms\n",
      "158:\tlearn: 0.1650581\ttotal: 3.44s\tremaining: 887ms\n",
      "159:\tlearn: 0.1649298\ttotal: 3.46s\tremaining: 865ms\n",
      "160:\tlearn: 0.1648108\ttotal: 3.48s\tremaining: 843ms\n",
      "161:\tlearn: 0.1647782\ttotal: 3.5s\tremaining: 821ms\n",
      "162:\tlearn: 0.1647484\ttotal: 3.52s\tremaining: 798ms\n",
      "163:\tlearn: 0.1646776\ttotal: 3.53s\tremaining: 776ms\n",
      "164:\tlearn: 0.1645960\ttotal: 3.55s\tremaining: 754ms\n",
      "165:\tlearn: 0.1645671\ttotal: 3.57s\tremaining: 732ms\n",
      "166:\tlearn: 0.1645415\ttotal: 3.59s\tremaining: 710ms\n",
      "167:\tlearn: 0.1644737\ttotal: 3.61s\tremaining: 687ms\n",
      "168:\tlearn: 0.1644491\ttotal: 3.63s\tremaining: 666ms\n"
     ]
    },
    {
     "name": "stdout",
     "output_type": "stream",
     "text": [
      "169:\tlearn: 0.1644221\ttotal: 3.65s\tremaining: 643ms\n",
      "170:\tlearn: 0.1643818\ttotal: 3.67s\tremaining: 623ms\n",
      "171:\tlearn: 0.1643441\ttotal: 3.69s\tremaining: 600ms\n",
      "172:\tlearn: 0.1643152\ttotal: 3.71s\tremaining: 579ms\n",
      "173:\tlearn: 0.1642764\ttotal: 3.72s\tremaining: 557ms\n",
      "174:\tlearn: 0.1641506\ttotal: 3.77s\tremaining: 538ms\n",
      "175:\tlearn: 0.1641049\ttotal: 3.79s\tremaining: 516ms\n",
      "176:\tlearn: 0.1640708\ttotal: 3.82s\tremaining: 497ms\n",
      "177:\tlearn: 0.1639808\ttotal: 3.84s\tremaining: 475ms\n",
      "178:\tlearn: 0.1637780\ttotal: 3.87s\tremaining: 455ms\n",
      "179:\tlearn: 0.1637624\ttotal: 3.89s\tremaining: 433ms\n",
      "180:\tlearn: 0.1637240\ttotal: 3.91s\tremaining: 411ms\n",
      "181:\tlearn: 0.1636107\ttotal: 3.94s\tremaining: 389ms\n",
      "182:\tlearn: 0.1635756\ttotal: 3.95s\tremaining: 367ms\n",
      "183:\tlearn: 0.1634359\ttotal: 3.97s\tremaining: 345ms\n",
      "184:\tlearn: 0.1633105\ttotal: 3.99s\tremaining: 323ms\n",
      "185:\tlearn: 0.1632869\ttotal: 4.01s\tremaining: 302ms\n",
      "186:\tlearn: 0.1631807\ttotal: 4.03s\tremaining: 280ms\n",
      "187:\tlearn: 0.1630408\ttotal: 4.04s\tremaining: 258ms\n",
      "188:\tlearn: 0.1629700\ttotal: 4.06s\tremaining: 236ms\n",
      "189:\tlearn: 0.1628861\ttotal: 4.08s\tremaining: 215ms\n",
      "190:\tlearn: 0.1627936\ttotal: 4.1s\tremaining: 193ms\n",
      "191:\tlearn: 0.1627096\ttotal: 4.12s\tremaining: 172ms\n",
      "192:\tlearn: 0.1626139\ttotal: 4.13s\tremaining: 150ms\n",
      "193:\tlearn: 0.1625034\ttotal: 4.15s\tremaining: 128ms\n",
      "194:\tlearn: 0.1624315\ttotal: 4.17s\tremaining: 107ms\n",
      "195:\tlearn: 0.1623601\ttotal: 4.19s\tremaining: 85.6ms\n",
      "196:\tlearn: 0.1623260\ttotal: 4.21s\tremaining: 64.2ms\n",
      "197:\tlearn: 0.1622582\ttotal: 4.23s\tremaining: 42.8ms\n",
      "198:\tlearn: 0.1622046\ttotal: 4.25s\tremaining: 21.4ms\n",
      "199:\tlearn: 0.1621634\ttotal: 4.28s\tremaining: 0us\n"
     ]
    },
    {
     "data": {
      "text/plain": [
       "<catboost.core.CatBoostClassifier at 0x28017bf6ac8>"
      ]
     },
     "execution_count": 98,
     "metadata": {},
     "output_type": "execute_result"
    }
   ],
   "source": [
    "model.fit(xtrain,ytrain)"
   ]
  },
  {
   "cell_type": "code",
   "execution_count": 99,
   "metadata": {},
   "outputs": [],
   "source": [
    "ypred = model.predict(xtest)"
   ]
  },
  {
   "cell_type": "code",
   "execution_count": 101,
   "metadata": {},
   "outputs": [],
   "source": [
    "df3['is_promoted'] = ypred"
   ]
  },
  {
   "cell_type": "code",
   "execution_count": 102,
   "metadata": {},
   "outputs": [],
   "source": [
    "df3.to_csv('HR_sol3.csv',columns = ['employee_id', 'is_promoted'],index = False)"
   ]
  },
  {
   "cell_type": "markdown",
   "metadata": {},
   "source": [
    "## Light gboost"
   ]
  },
  {
   "cell_type": "code",
   "execution_count": null,
   "metadata": {},
   "outputs": [],
   "source": [
    "from lightgbm import LGBMClassifier"
   ]
  },
  {
   "cell_type": "code",
   "execution_count": null,
   "metadata": {},
   "outputs": [],
   "source": [
    "lgbm = LGBMClassifier(max_depth= 8, learning_rate=0.0941, n_estimators=197, num_leaves= 17, reg_alpha=3.4492 , reg_lambda= 0.0422)"
   ]
  },
  {
   "cell_type": "code",
   "execution_count": null,
   "metadata": {},
   "outputs": [],
   "source": [
    "lgbm.fit(xtrain,ytrain)"
   ]
  },
  {
   "cell_type": "code",
   "execution_count": null,
   "metadata": {},
   "outputs": [],
   "source": [
    "ypred1 = lgbm.predict(xtest)"
   ]
  },
  {
   "cell_type": "code",
   "execution_count": null,
   "metadata": {},
   "outputs": [],
   "source": [
    "df3['is_promoted'] = ypred1"
   ]
  },
  {
   "cell_type": "code",
   "execution_count": null,
   "metadata": {},
   "outputs": [],
   "source": [
    "df3.to_csv('pred_promoted2.csv',columns = ['employee_id', 'is_promoted'], index = False)"
   ]
  },
  {
   "cell_type": "markdown",
   "metadata": {},
   "source": [
    "## SVC"
   ]
  },
  {
   "cell_type": "code",
   "execution_count": null,
   "metadata": {},
   "outputs": [],
   "source": [
    "from sklearn.svm import SVC"
   ]
  },
  {
   "cell_type": "code",
   "execution_count": 89,
   "metadata": {},
   "outputs": [],
   "source": [
    "svc = SVC(gamma = 0.01)"
   ]
  },
  {
   "cell_type": "code",
   "execution_count": 90,
   "metadata": {},
   "outputs": [
    {
     "data": {
      "text/plain": [
       "SVC(C=1.0, cache_size=200, class_weight=None, coef0=0.0,\n",
       "    decision_function_shape='ovr', degree=3, gamma=0.01, kernel='rbf',\n",
       "    max_iter=-1, probability=False, random_state=None, shrinking=True,\n",
       "    tol=0.001, verbose=False)"
      ]
     },
     "execution_count": 90,
     "metadata": {},
     "output_type": "execute_result"
    }
   ],
   "source": [
    "svc.fit(xtrain,ytrain)"
   ]
  },
  {
   "cell_type": "code",
   "execution_count": 93,
   "metadata": {},
   "outputs": [],
   "source": [
    "pred = svc.predict(xtest)"
   ]
  },
  {
   "cell_type": "code",
   "execution_count": 94,
   "metadata": {},
   "outputs": [],
   "source": [
    "df3['is_promoted'] = pred"
   ]
  },
  {
   "cell_type": "code",
   "execution_count": 95,
   "metadata": {},
   "outputs": [],
   "source": [
    "df3.to_csv('HR_sol2.csv',columns = ['employee_id', 'is_promoted'], index = False)"
   ]
  },
  {
   "cell_type": "code",
   "execution_count": 96,
   "metadata": {},
   "outputs": [],
   "source": [
    "#Least accuracy till now"
   ]
  },
  {
   "cell_type": "code",
   "execution_count": 103,
   "metadata": {},
   "outputs": [
    {
     "data": {
      "text/html": [
       "<div>\n",
       "<style scoped>\n",
       "    .dataframe tbody tr th:only-of-type {\n",
       "        vertical-align: middle;\n",
       "    }\n",
       "\n",
       "    .dataframe tbody tr th {\n",
       "        vertical-align: top;\n",
       "    }\n",
       "\n",
       "    .dataframe thead th {\n",
       "        text-align: right;\n",
       "    }\n",
       "</style>\n",
       "<table border=\"1\" class=\"dataframe\">\n",
       "  <thead>\n",
       "    <tr style=\"text-align: right;\">\n",
       "      <th></th>\n",
       "      <th>region</th>\n",
       "      <th>no_of_trainings</th>\n",
       "      <th>age</th>\n",
       "      <th>previous_year_rating</th>\n",
       "      <th>length_of_service</th>\n",
       "      <th>KPIs_met &gt;80%</th>\n",
       "      <th>awards_won?</th>\n",
       "      <th>avg_training_score</th>\n",
       "      <th>is_promoted</th>\n",
       "      <th>tech_knowledge</th>\n",
       "      <th>...</th>\n",
       "      <th>department_HR</th>\n",
       "      <th>department_Legal</th>\n",
       "      <th>department_Operations</th>\n",
       "      <th>department_Procurement</th>\n",
       "      <th>department_R&amp;D</th>\n",
       "      <th>department_Sales &amp; Marketing</th>\n",
       "      <th>department_Technology</th>\n",
       "      <th>recruitment_channel_other</th>\n",
       "      <th>recruitment_channel_referred</th>\n",
       "      <th>recruitment_channel_sourcing</th>\n",
       "    </tr>\n",
       "  </thead>\n",
       "  <tbody>\n",
       "    <tr>\n",
       "      <td>0</td>\n",
       "      <td>31</td>\n",
       "      <td>1</td>\n",
       "      <td>35</td>\n",
       "      <td>5.0</td>\n",
       "      <td>8</td>\n",
       "      <td>1</td>\n",
       "      <td>0</td>\n",
       "      <td>49</td>\n",
       "      <td>0</td>\n",
       "      <td>49</td>\n",
       "      <td>...</td>\n",
       "      <td>0</td>\n",
       "      <td>0</td>\n",
       "      <td>0</td>\n",
       "      <td>0</td>\n",
       "      <td>0</td>\n",
       "      <td>1</td>\n",
       "      <td>0</td>\n",
       "      <td>0</td>\n",
       "      <td>0</td>\n",
       "      <td>1</td>\n",
       "    </tr>\n",
       "    <tr>\n",
       "      <td>1</td>\n",
       "      <td>14</td>\n",
       "      <td>1</td>\n",
       "      <td>30</td>\n",
       "      <td>5.0</td>\n",
       "      <td>4</td>\n",
       "      <td>0</td>\n",
       "      <td>0</td>\n",
       "      <td>60</td>\n",
       "      <td>0</td>\n",
       "      <td>60</td>\n",
       "      <td>...</td>\n",
       "      <td>0</td>\n",
       "      <td>0</td>\n",
       "      <td>1</td>\n",
       "      <td>0</td>\n",
       "      <td>0</td>\n",
       "      <td>0</td>\n",
       "      <td>0</td>\n",
       "      <td>1</td>\n",
       "      <td>0</td>\n",
       "      <td>0</td>\n",
       "    </tr>\n",
       "    <tr>\n",
       "      <td>2</td>\n",
       "      <td>10</td>\n",
       "      <td>1</td>\n",
       "      <td>34</td>\n",
       "      <td>3.0</td>\n",
       "      <td>7</td>\n",
       "      <td>0</td>\n",
       "      <td>0</td>\n",
       "      <td>50</td>\n",
       "      <td>0</td>\n",
       "      <td>50</td>\n",
       "      <td>...</td>\n",
       "      <td>0</td>\n",
       "      <td>0</td>\n",
       "      <td>0</td>\n",
       "      <td>0</td>\n",
       "      <td>0</td>\n",
       "      <td>1</td>\n",
       "      <td>0</td>\n",
       "      <td>0</td>\n",
       "      <td>0</td>\n",
       "      <td>1</td>\n",
       "    </tr>\n",
       "    <tr>\n",
       "      <td>3</td>\n",
       "      <td>15</td>\n",
       "      <td>2</td>\n",
       "      <td>39</td>\n",
       "      <td>1.0</td>\n",
       "      <td>10</td>\n",
       "      <td>0</td>\n",
       "      <td>0</td>\n",
       "      <td>50</td>\n",
       "      <td>0</td>\n",
       "      <td>100</td>\n",
       "      <td>...</td>\n",
       "      <td>0</td>\n",
       "      <td>0</td>\n",
       "      <td>0</td>\n",
       "      <td>0</td>\n",
       "      <td>0</td>\n",
       "      <td>1</td>\n",
       "      <td>0</td>\n",
       "      <td>1</td>\n",
       "      <td>0</td>\n",
       "      <td>0</td>\n",
       "    </tr>\n",
       "    <tr>\n",
       "      <td>4</td>\n",
       "      <td>18</td>\n",
       "      <td>1</td>\n",
       "      <td>45</td>\n",
       "      <td>3.0</td>\n",
       "      <td>2</td>\n",
       "      <td>0</td>\n",
       "      <td>0</td>\n",
       "      <td>73</td>\n",
       "      <td>0</td>\n",
       "      <td>73</td>\n",
       "      <td>...</td>\n",
       "      <td>0</td>\n",
       "      <td>0</td>\n",
       "      <td>0</td>\n",
       "      <td>0</td>\n",
       "      <td>0</td>\n",
       "      <td>0</td>\n",
       "      <td>1</td>\n",
       "      <td>1</td>\n",
       "      <td>0</td>\n",
       "      <td>0</td>\n",
       "    </tr>\n",
       "    <tr>\n",
       "      <td>...</td>\n",
       "      <td>...</td>\n",
       "      <td>...</td>\n",
       "      <td>...</td>\n",
       "      <td>...</td>\n",
       "      <td>...</td>\n",
       "      <td>...</td>\n",
       "      <td>...</td>\n",
       "      <td>...</td>\n",
       "      <td>...</td>\n",
       "      <td>...</td>\n",
       "      <td>...</td>\n",
       "      <td>...</td>\n",
       "      <td>...</td>\n",
       "      <td>...</td>\n",
       "      <td>...</td>\n",
       "      <td>...</td>\n",
       "      <td>...</td>\n",
       "      <td>...</td>\n",
       "      <td>...</td>\n",
       "      <td>...</td>\n",
       "      <td>...</td>\n",
       "    </tr>\n",
       "    <tr>\n",
       "      <td>54803</td>\n",
       "      <td>5</td>\n",
       "      <td>1</td>\n",
       "      <td>48</td>\n",
       "      <td>3.0</td>\n",
       "      <td>17</td>\n",
       "      <td>0</td>\n",
       "      <td>0</td>\n",
       "      <td>78</td>\n",
       "      <td>0</td>\n",
       "      <td>78</td>\n",
       "      <td>...</td>\n",
       "      <td>0</td>\n",
       "      <td>0</td>\n",
       "      <td>0</td>\n",
       "      <td>0</td>\n",
       "      <td>0</td>\n",
       "      <td>0</td>\n",
       "      <td>1</td>\n",
       "      <td>0</td>\n",
       "      <td>0</td>\n",
       "      <td>1</td>\n",
       "    </tr>\n",
       "    <tr>\n",
       "      <td>54804</td>\n",
       "      <td>19</td>\n",
       "      <td>1</td>\n",
       "      <td>37</td>\n",
       "      <td>2.0</td>\n",
       "      <td>6</td>\n",
       "      <td>0</td>\n",
       "      <td>0</td>\n",
       "      <td>56</td>\n",
       "      <td>0</td>\n",
       "      <td>56</td>\n",
       "      <td>...</td>\n",
       "      <td>0</td>\n",
       "      <td>0</td>\n",
       "      <td>1</td>\n",
       "      <td>0</td>\n",
       "      <td>0</td>\n",
       "      <td>0</td>\n",
       "      <td>0</td>\n",
       "      <td>1</td>\n",
       "      <td>0</td>\n",
       "      <td>0</td>\n",
       "    </tr>\n",
       "    <tr>\n",
       "      <td>54805</td>\n",
       "      <td>0</td>\n",
       "      <td>1</td>\n",
       "      <td>27</td>\n",
       "      <td>5.0</td>\n",
       "      <td>3</td>\n",
       "      <td>1</td>\n",
       "      <td>0</td>\n",
       "      <td>79</td>\n",
       "      <td>0</td>\n",
       "      <td>79</td>\n",
       "      <td>...</td>\n",
       "      <td>0</td>\n",
       "      <td>0</td>\n",
       "      <td>0</td>\n",
       "      <td>0</td>\n",
       "      <td>0</td>\n",
       "      <td>0</td>\n",
       "      <td>0</td>\n",
       "      <td>1</td>\n",
       "      <td>0</td>\n",
       "      <td>0</td>\n",
       "    </tr>\n",
       "    <tr>\n",
       "      <td>54806</td>\n",
       "      <td>33</td>\n",
       "      <td>1</td>\n",
       "      <td>29</td>\n",
       "      <td>1.0</td>\n",
       "      <td>2</td>\n",
       "      <td>0</td>\n",
       "      <td>0</td>\n",
       "      <td>45</td>\n",
       "      <td>0</td>\n",
       "      <td>45</td>\n",
       "      <td>...</td>\n",
       "      <td>0</td>\n",
       "      <td>0</td>\n",
       "      <td>0</td>\n",
       "      <td>0</td>\n",
       "      <td>0</td>\n",
       "      <td>1</td>\n",
       "      <td>0</td>\n",
       "      <td>0</td>\n",
       "      <td>0</td>\n",
       "      <td>1</td>\n",
       "    </tr>\n",
       "    <tr>\n",
       "      <td>54807</td>\n",
       "      <td>14</td>\n",
       "      <td>1</td>\n",
       "      <td>27</td>\n",
       "      <td>1.0</td>\n",
       "      <td>5</td>\n",
       "      <td>0</td>\n",
       "      <td>0</td>\n",
       "      <td>49</td>\n",
       "      <td>0</td>\n",
       "      <td>49</td>\n",
       "      <td>...</td>\n",
       "      <td>1</td>\n",
       "      <td>0</td>\n",
       "      <td>0</td>\n",
       "      <td>0</td>\n",
       "      <td>0</td>\n",
       "      <td>0</td>\n",
       "      <td>0</td>\n",
       "      <td>1</td>\n",
       "      <td>0</td>\n",
       "      <td>0</td>\n",
       "    </tr>\n",
       "  </tbody>\n",
       "</table>\n",
       "<p>54808 rows × 27 columns</p>\n",
       "</div>"
      ],
      "text/plain": [
       "       region  no_of_trainings  age  previous_year_rating  length_of_service  \\\n",
       "0          31                1   35                   5.0                  8   \n",
       "1          14                1   30                   5.0                  4   \n",
       "2          10                1   34                   3.0                  7   \n",
       "3          15                2   39                   1.0                 10   \n",
       "4          18                1   45                   3.0                  2   \n",
       "...       ...              ...  ...                   ...                ...   \n",
       "54803       5                1   48                   3.0                 17   \n",
       "54804      19                1   37                   2.0                  6   \n",
       "54805       0                1   27                   5.0                  3   \n",
       "54806      33                1   29                   1.0                  2   \n",
       "54807      14                1   27                   1.0                  5   \n",
       "\n",
       "       KPIs_met >80%  awards_won?  avg_training_score  is_promoted  \\\n",
       "0                  1            0                  49            0   \n",
       "1                  0            0                  60            0   \n",
       "2                  0            0                  50            0   \n",
       "3                  0            0                  50            0   \n",
       "4                  0            0                  73            0   \n",
       "...              ...          ...                 ...          ...   \n",
       "54803              0            0                  78            0   \n",
       "54804              0            0                  56            0   \n",
       "54805              1            0                  79            0   \n",
       "54806              0            0                  45            0   \n",
       "54807              0            0                  49            0   \n",
       "\n",
       "       tech_knowledge  ...  department_HR  department_Legal  \\\n",
       "0                  49  ...              0                 0   \n",
       "1                  60  ...              0                 0   \n",
       "2                  50  ...              0                 0   \n",
       "3                 100  ...              0                 0   \n",
       "4                  73  ...              0                 0   \n",
       "...               ...  ...            ...               ...   \n",
       "54803              78  ...              0                 0   \n",
       "54804              56  ...              0                 0   \n",
       "54805              79  ...              0                 0   \n",
       "54806              45  ...              0                 0   \n",
       "54807              49  ...              1                 0   \n",
       "\n",
       "       department_Operations  department_Procurement  department_R&D  \\\n",
       "0                          0                       0               0   \n",
       "1                          1                       0               0   \n",
       "2                          0                       0               0   \n",
       "3                          0                       0               0   \n",
       "4                          0                       0               0   \n",
       "...                      ...                     ...             ...   \n",
       "54803                      0                       0               0   \n",
       "54804                      1                       0               0   \n",
       "54805                      0                       0               0   \n",
       "54806                      0                       0               0   \n",
       "54807                      0                       0               0   \n",
       "\n",
       "       department_Sales & Marketing  department_Technology  \\\n",
       "0                                 1                      0   \n",
       "1                                 0                      0   \n",
       "2                                 1                      0   \n",
       "3                                 1                      0   \n",
       "4                                 0                      1   \n",
       "...                             ...                    ...   \n",
       "54803                             0                      1   \n",
       "54804                             0                      0   \n",
       "54805                             0                      0   \n",
       "54806                             1                      0   \n",
       "54807                             0                      0   \n",
       "\n",
       "       recruitment_channel_other  recruitment_channel_referred  \\\n",
       "0                              0                             0   \n",
       "1                              1                             0   \n",
       "2                              0                             0   \n",
       "3                              1                             0   \n",
       "4                              1                             0   \n",
       "...                          ...                           ...   \n",
       "54803                          0                             0   \n",
       "54804                          1                             0   \n",
       "54805                          1                             0   \n",
       "54806                          0                             0   \n",
       "54807                          1                             0   \n",
       "\n",
       "       recruitment_channel_sourcing  \n",
       "0                                 1  \n",
       "1                                 0  \n",
       "2                                 1  \n",
       "3                                 0  \n",
       "4                                 0  \n",
       "...                             ...  \n",
       "54803                             1  \n",
       "54804                             0  \n",
       "54805                             0  \n",
       "54806                             1  \n",
       "54807                             0  \n",
       "\n",
       "[54808 rows x 27 columns]"
      ]
     },
     "execution_count": 103,
     "metadata": {},
     "output_type": "execute_result"
    }
   ],
   "source": [
    "train"
   ]
  },
  {
   "cell_type": "code",
   "execution_count": null,
   "metadata": {},
   "outputs": [],
   "source": []
  }
 ],
 "metadata": {
  "kernelspec": {
   "display_name": "Python 3",
   "language": "python",
   "name": "python3"
  },
  "language_info": {
   "codemirror_mode": {
    "name": "ipython",
    "version": 3
   },
   "file_extension": ".py",
   "mimetype": "text/x-python",
   "name": "python",
   "nbconvert_exporter": "python",
   "pygments_lexer": "ipython3",
   "version": "3.7.4"
  }
 },
 "nbformat": 4,
 "nbformat_minor": 2
}
